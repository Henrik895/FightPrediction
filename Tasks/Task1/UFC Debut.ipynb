{
 "cells": [
  {
   "cell_type": "markdown",
   "metadata": {},
   "source": [
    "How often do fighters making a UFC debut win?"
   ]
  },
  {
   "cell_type": "code",
   "execution_count": 1,
   "metadata": {},
   "outputs": [],
   "source": [
    "import pandas as pd"
   ]
  },
  {
   "cell_type": "code",
   "execution_count": 2,
   "metadata": {},
   "outputs": [],
   "source": [
    "data = pd.read_csv('../../data/ufc-master.csv')"
   ]
  },
  {
   "cell_type": "code",
   "execution_count": 3,
   "metadata": {},
   "outputs": [],
   "source": [
    "data = data[['B_fighter', 'R_fighter', 'B_wins', 'B_losses', 'R_wins', 'R_losses', 'gender', 'Winner']]"
   ]
  },
  {
   "cell_type": "code",
   "execution_count": 4,
   "metadata": {},
   "outputs": [],
   "source": [
    "debut = (data['B_wins'] + data['B_losses'] == 0) | (data['R_wins'] + data['R_losses'] == 0)\n",
    "data = data[debut]"
   ]
  },
  {
   "cell_type": "markdown",
   "metadata": {},
   "source": [
    "Now we exclude fights where both of the fighters are making their UFC debuts"
   ]
  },
  {
   "cell_type": "code",
   "execution_count": 5,
   "metadata": {},
   "outputs": [],
   "source": [
    "noeq = data['B_wins'] + data['B_losses'] != data['R_wins'] + data['R_losses']\n",
    "data = data[noeq]"
   ]
  },
  {
   "cell_type": "code",
   "execution_count": 6,
   "metadata": {},
   "outputs": [
    {
     "name": "stdout",
     "output_type": "stream",
     "text": [
      "The fighter who is making the debut wins 43.37% of the time.\n",
      "Number of fightes where one of the fighters was making a UFC debut: 830\n"
     ]
    }
   ],
   "source": [
    "wins = 0\n",
    "for i in range(len(data)):\n",
    "    if (data['Winner'].iloc[i] == 'Blue') & (data['B_wins'].iloc[i] + data['B_losses'].iloc[i] == 0):\n",
    "        wins += 1\n",
    "    elif (data['Winner'].iloc[i] == 'Red') & (data['R_wins'].iloc[i] + data['R_losses'].iloc[i] == 0):\n",
    "        wins += 1\n",
    "p = wins / len(data)\n",
    "print(\"The fighter who is making the debut wins \" + str(round(p * 100, 2)) + \"% of the time.\")\n",
    "print(\"Number of fights where one of the fighters was making a UFC debut: \" + str(len(data)))"
   ]
  },
  {
   "cell_type": "markdown",
   "metadata": {},
   "source": [
    "This shows us that it is usually better to prefer the fighter who has already fought in the UFC before. Because this is based on 830 fights we can call it more than just a random occurrence."
   ]
  },
  {
   "cell_type": "markdown",
   "metadata": {},
   "source": [
    "We can also ask ourselves if there are differences between male and female fighters?"
   ]
  },
  {
   "cell_type": "code",
   "execution_count": 15,
   "metadata": {},
   "outputs": [],
   "source": [
    "male = data['gender'] == 'MALE'\n",
    "female = data['gender'] == 'FEMALE'\n",
    "data_male = data[male].copy()\n",
    "data_female = data[female].copy()"
   ]
  },
  {
   "cell_type": "code",
   "execution_count": 11,
   "metadata": {},
   "outputs": [
    {
     "name": "stdout",
     "output_type": "stream",
     "text": [
      "For male fighters the fighter making a debut wins 43.17% of the time.\n",
      "Number of fights: 732\n"
     ]
    }
   ],
   "source": [
    "wins_male = 0\n",
    "for i in range(len(data_male)):\n",
    "    if (data_male['Winner'].iloc[i] == 'Blue') & (data_male['B_wins'].iloc[i] + data_male['B_losses'].iloc[i] == 0):\n",
    "        wins_male += 1\n",
    "    elif (data_male['Winner'].iloc[i] == 'Red') & (data_male['R_wins'].iloc[i] + data_male['R_losses'].iloc[i] == 0):\n",
    "        wins_male += 1\n",
    "p2 = wins_male / len(data_male)\n",
    "print(\"For male fighters the fighter making a debut wins \" + str(round(p2 * 100, 2)) + \"% of the time.\")\n",
    "print(\"Number of fights: \" + str(len(data_male)))"
   ]
  },
  {
   "cell_type": "code",
   "execution_count": 17,
   "metadata": {},
   "outputs": [
    {
     "name": "stdout",
     "output_type": "stream",
     "text": [
      "For female fighters the fighter making a debut wins 44.9% of the time.\n",
      "Number of fights: 98\n"
     ]
    }
   ],
   "source": [
    "wins_female = 0\n",
    "for i in range(len(data_female)):\n",
    "    if (data_female['Winner'].iloc[i] == 'Blue') & (data_female['B_wins'].iloc[i] + data_female['B_losses'].iloc[i] == 0):\n",
    "        wins_female += 1\n",
    "    elif (data_female['Winner'].iloc[i] == 'Red') & (data_female['R_wins'].iloc[i] + data_female['R_losses'].iloc[i] == 0):\n",
    "        wins_female += 1\n",
    "p3 = wins_female / len(data_female)\n",
    "print(\"For female fighters the fighter making a debut wins \" + str(round(p3 * 100, 2)) + \"% of the time.\")\n",
    "print(\"Number of fights: \" + str(len(data_female)))"
   ]
  },
  {
   "cell_type": "markdown",
   "metadata": {},
   "source": [
    "It seems that women win slightly more than men when making their UFC debuts, but as the sample size for women fights where one of the fighters is making a debut is 98 compared to 732 for men we can conclude that in reality there are no differences."
   ]
  }
 ],
 "metadata": {
  "kernelspec": {
   "display_name": "Python 3",
   "language": "python",
   "name": "python3"
  },
  "language_info": {
   "codemirror_mode": {
    "name": "ipython",
    "version": 3
   },
   "file_extension": ".py",
   "mimetype": "text/x-python",
   "name": "python",
   "nbconvert_exporter": "python",
   "pygments_lexer": "ipython3",
   "version": "3.8.3"
  }
 },
 "nbformat": 4,
 "nbformat_minor": 4
}
