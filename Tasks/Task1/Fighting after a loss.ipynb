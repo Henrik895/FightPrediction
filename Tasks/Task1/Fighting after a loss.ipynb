{
 "cells": [
  {
   "cell_type": "markdown",
   "metadata": {},
   "source": [
    "Let's try to find out how often does a fighter win when he is coming off a loss?"
   ]
  },
  {
   "cell_type": "code",
   "execution_count": 1,
   "metadata": {},
   "outputs": [],
   "source": [
    "import pandas as pd"
   ]
  },
  {
   "cell_type": "code",
   "execution_count": 2,
   "metadata": {},
   "outputs": [],
   "source": [
    "data = pd.read_csv('../../data/ufc-master.csv')"
   ]
  },
  {
   "cell_type": "code",
   "execution_count": 7,
   "metadata": {},
   "outputs": [],
   "source": [
    "data = data[['B_fighter', 'R_fighter', 'B_current_lose_streak', 'R_current_lose_streak', 'Winner']]"
   ]
  },
  {
   "cell_type": "code",
   "execution_count": 19,
   "metadata": {},
   "outputs": [],
   "source": [
    "#Lets choose fights where only one of the fighters is coming off a loss (when both are coming off a loss we learn nothing)\n",
    "one_loss = (data['B_current_lose_streak'] == 0) & (data['R_current_lose_streak'] != 0) | (data['B_current_lose_streak'] != 0) & (data['R_current_lose_streak'] == 0)\n",
    "data_lose = data[one_loss]"
   ]
  },
  {
   "cell_type": "code",
   "execution_count": 20,
   "metadata": {},
   "outputs": [
    {
     "name": "stdout",
     "output_type": "stream",
     "text": [
      "When the fighter lost his/her previous fight and his/her opponent didn't he/she is going to with a possibility of 46.97%.\n"
     ]
    }
   ],
   "source": [
    "off_loss = 0\n",
    "for i in range(len(data_lose)):\n",
    "    if (data_lose['Winner'].iloc[i] == 'Blue') & (data_lose['B_current_lose_streak'].iloc[i] > 0):\n",
    "        off_loss += 1\n",
    "    elif (data_lose['Winner'].iloc[i] == 'Red') & (data_lose['R_current_lose_streak'].iloc[i] > 0):\n",
    "        off_loss += 1\n",
    "off_loss_p = off_loss / len(data_lose)\n",
    "print(\"When the fighter lost his/her previous fight and his/her opponent didn't he/she is going to with a possibility of \" +\n",
    "     str(round(off_loss_p * 100,2)) + \"%.\")"
   ]
  },
  {
   "cell_type": "markdown",
   "metadata": {},
   "source": [
    "This shows that if a fighter has lost the previous fight he/she is more likely going to lose the next fight also. It is important to note that in this case the fighter might have lost more than one in a row. We only know that he/she is coming off a loss."
   ]
  },
  {
   "cell_type": "markdown",
   "metadata": {},
   "source": [
    "To make things more interesting let's look at the cases where one of the fighters is coming off an exaclty two fight losing streak."
   ]
  },
  {
   "cell_type": "code",
   "execution_count": 21,
   "metadata": {},
   "outputs": [],
   "source": [
    "two_loss = (data['B_current_lose_streak'] == 2) & (data['R_current_lose_streak'] != 2) | (data['B_current_lose_streak'] != 2) & (data['R_current_lose_streak'] == 2)\n",
    "data_lose2 = data[two_loss]"
   ]
  },
  {
   "cell_type": "code",
   "execution_count": 22,
   "metadata": {},
   "outputs": [
    {
     "name": "stdout",
     "output_type": "stream",
     "text": [
      "When the fighter lost his/her previous 2 fights and his/her opponent didn't he/she is going to with a possibility of 74.88%.\n"
     ]
    }
   ],
   "source": [
    "off_loss2 = 0\n",
    "for i in range(len(data_lose2)):\n",
    "    if (data_lose2['Winner'].iloc[i] == 'Blue') & (data_lose2['B_current_lose_streak'].iloc[i] > 0):\n",
    "        off_loss2 += 1\n",
    "    elif (data_lose2['Winner'].iloc[i] == 'Red') & (data_lose2['R_current_lose_streak'].iloc[i] > 0):\n",
    "        off_loss2 += 1\n",
    "off_loss_p2 = off_loss2 / len(data_lose2)\n",
    "print(\"When the fighter lost his/her previous 2 fights and his/her opponent didn't he/she is going to with a possibility of \" +\n",
    "     str(round(off_loss_p2 * 100,2)) + \"%.\")"
   ]
  },
  {
   "cell_type": "markdown",
   "metadata": {},
   "source": [
    "This is an interesting find because it shows us that after losing two fights fighters usually rebound.  \n",
    "Let's also look what happens after losing 3 in a row."
   ]
  },
  {
   "cell_type": "code",
   "execution_count": 30,
   "metadata": {},
   "outputs": [],
   "source": [
    "three_loss = (data['B_current_lose_streak'] == 3) & (data['R_current_lose_streak'] != 3) | (data['B_current_lose_streak'] != 3) & (data['R_current_lose_streak'] == 3)\n",
    "data_lose3 = data[three_loss]"
   ]
  },
  {
   "cell_type": "code",
   "execution_count": 31,
   "metadata": {},
   "outputs": [
    {
     "name": "stdout",
     "output_type": "stream",
     "text": [
      "When the fighter lost his/her previous 3 fights and his/her opponent didn't he/she is going to with a possibility of 76.72%.\n"
     ]
    }
   ],
   "source": [
    "off_loss3 = 0\n",
    "for i in range(len(data_lose3)):\n",
    "    if (data_lose3['Winner'].iloc[i] == 'Blue') & (data_lose3['B_current_lose_streak'].iloc[i] > 0):\n",
    "        off_loss3 += 1\n",
    "    elif (data_lose3['Winner'].iloc[i] == 'Red') & (data_lose3['R_current_lose_streak'].iloc[i] > 0):\n",
    "        off_loss3 += 1\n",
    "off_loss_p3 = off_loss3 / len(data_lose3)\n",
    "print(\"When the fighter lost his/her previous 3 fights and his/her opponent didn't he/she is going to with a possibility of \" +\n",
    "     str(round(off_loss_p3 * 100,2)) + \"%.\")"
   ]
  },
  {
   "cell_type": "markdown",
   "metadata": {},
   "source": [
    "Now the odds of winning increased even more.  \n",
    "This is likely an outcome of more favourable matchmaking after losing multiple fights in a row. MMA is a sport after all where the prize for winning is harder fights and the punishment for losing is easier fights."
   ]
  }
 ],
 "metadata": {
  "kernelspec": {
   "display_name": "Python 3",
   "language": "python",
   "name": "python3"
  },
  "language_info": {
   "codemirror_mode": {
    "name": "ipython",
    "version": 3
   },
   "file_extension": ".py",
   "mimetype": "text/x-python",
   "name": "python",
   "nbconvert_exporter": "python",
   "pygments_lexer": "ipython3",
   "version": "3.8.3"
  }
 },
 "nbformat": 4,
 "nbformat_minor": 4
}
