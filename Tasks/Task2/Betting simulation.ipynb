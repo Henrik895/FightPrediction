{
 "cells": [
  {
   "cell_type": "code",
   "execution_count": 33,
   "metadata": {},
   "outputs": [],
   "source": [
    "import pandas as pd\n",
    "\n"
   ]
  },
  {
   "cell_type": "markdown",
   "source": [
    "Conveniently the dataset also includes betting payout profits for a 100 unit bet.\n",
    "\n",
    "This can be used to simulate betting and see whether using our model can actually be used to earn money.\n",
    "\n",
    "To do this we use the same KNN 109 model as we did in Odds Analysis."
   ],
   "metadata": {
    "collapsed": false
   }
  },
  {
   "cell_type": "code",
   "execution_count": 34,
   "outputs": [],
   "source": [
    "data = pd.read_csv('../../data/ufc-master.csv')\n",
    "\n",
    "data = data[['Winner','R_ev','B_ev','B_fighter', 'R_fighter', 'title_bout', 'B_current_win_streak',\n",
    "        'B_current_lose_streak', 'R_current_win_streak', 'R_current_lose_streak', 'B_Stance', 'R_Stance',\n",
    "        'B_avg_TD_landed', 'R_avg_TD_landed', 'B_wins', 'B_losses', 'R_wins', 'R_losses', 'B_age', 'R_age',\n",
    "        'height_dif', 'reach_dif', 'better_rank', 'gender', 'R_odds', 'B_odds']]\n"
   ],
   "metadata": {
    "collapsed": false,
    "pycharm": {
     "name": "#%%\n"
    }
   }
  },
  {
   "cell_type": "code",
   "execution_count": 35,
   "metadata": {},
   "outputs": [],
   "source": [
    "#In the blue fighter stance column we have to fix one data point, where 'Switch' is written as 'Switch ' with an extra space\n",
    "#in the end\n",
    "data['B_Stance'] = data['B_Stance'].replace({'Switch ': 'Switch'})\n",
    "\n",
    "#In the height dif there is one outlier where the difference between the two fighters is 187.96 cm, which is obviously a mistake.\n",
    "#Instead of excluding this datapoint I am going to fix this manually using the height data available for both fighters on the\n",
    "#UFC website (the fighters were Parker Porter and Kyle Daukaus)\n",
    "data['height_dif'] = data['height_dif'].replace({-187.96: -7.62})\n",
    "data['height_dif'].value_counts()\n",
    "\n",
    "#In the reach difference we have 2 mistakes, where one of the values is -187.96 and the other is -160.02. These mistakes will be\n",
    "#fixed as well.\n",
    "#In the first case the fighters involved are Jinh Yu Frey and Kay Hanse\n",
    "#In the second case the fighters involved are Parker Porter vs Kyle Daukaus and Irwin Rivera vs Giga Chikadze\n",
    "filter1 = (data['reach_dif'] == -187.96) & (data['B_fighter'] == 'Parker Porter')\n",
    "filter2 = (data['reach_dif'] == -187.96) & (data['B_fighter'] == 'Irwin Rivera')\n",
    "filter3 = data['reach_dif'] == -160.02\n",
    "data[filter1] = data[filter1].replace({-187.96: -2.54})\n",
    "data[filter2] = data[filter2].replace({-187.96: -17.78 })\n",
    "data[filter3] = data[filter3].replace({-160.02: 5.08})"
   ]
  },
  {
   "cell_type": "code",
   "execution_count": 36,
   "metadata": {},
   "outputs": [],
   "source": [
    "data['B_avg_TD_landed'].fillna(0, inplace=True)\n",
    "data['R_avg_TD_landed'].fillna(0, inplace=True)"
   ]
  },
  {
   "cell_type": "code",
   "execution_count": 37,
   "metadata": {},
   "outputs": [],
   "source": [
    "#Now we will use columns wins and losses for both fighters to create a column that has a win ratio out of all wins and losses\n",
    "B_ratio = data['B_wins'] / (data['B_wins'] + data['B_losses'])\n",
    "R_ratio = data['R_wins'] / (data['R_wins'] + data['R_losses'])\n",
    "data['B_wr'] = B_ratio\n",
    "data['R_wr'] = R_ratio\n",
    "#It is possible that in some of the rows that value is now NaN as the fighter has never fought before. In task 1 we found out\n",
    "#that the fighters making debut usually win 43% of the time so we will replace NaN with 0.43 as giving them 0 would not\n",
    "#represent reality very well\n",
    "data['B_wr'].fillna(0.43, inplace=True)\n",
    "data['R_wr'].fillna(0.43, inplace=True)\n",
    "#Now we will drop win and loss columns for both fighters because we have added the winrate column\n",
    "data = data.drop(columns=['B_wins', 'B_losses', 'R_wins', 'R_losses'])\n",
    "\n",
    "#Now changing categorical variables into 1s and 0s where necessary\n",
    "data['title_bout'] = (data['title_bout']).astype(int)\n",
    "data['Winner'] = data['Winner'].map(dict(Blue=0, Red=1))\n",
    "data['gender'] = data['gender'].map(dict(MALE=1, FEMALE=0))\n",
    "data = pd.get_dummies(data, columns=['B_Stance', 'R_Stance', 'better_rank'])"
   ]
  },
  {
   "cell_type": "code",
   "execution_count": 38,
   "metadata": {},
   "outputs": [],
   "source": [
    "#Dropping fighters names as well because this whole prediction is based on the stats only\n",
    "data = data.drop(columns=['B_fighter', 'R_fighter'])"
   ]
  },
  {
   "cell_type": "code",
   "execution_count": 39,
   "outputs": [],
   "source": [
    "#Creating training and validation sets\n",
    "from sklearn.model_selection import train_test_split\n",
    "X_train, X_test, y_train, y_test = train_test_split(data, data['Winner'], test_size = 0.15, random_state = 0)\n",
    "\n",
    "#Removing betting odds from dataset, but saving them to a different dataframe for easy comparison.\n",
    "X_train = X_train.drop(columns=['R_ev','B_ev', 'Winner', 'R_odds', 'B_odds'])\n",
    "X_with_odds = X_test.copy()\n",
    "X_test = X_test.drop(columns=['R_ev','B_ev', 'Winner', 'R_odds', 'B_odds'])"
   ],
   "metadata": {
    "collapsed": false,
    "pycharm": {
     "name": "#%%\n"
    }
   }
  },
  {
   "cell_type": "code",
   "execution_count": 40,
   "outputs": [
    {
     "name": "stdout",
     "output_type": "stream",
     "text": [
      "0.5827123695976155\n"
     ]
    }
   ],
   "source": [
    "#First we are going to use the KNN algorithm that we found earlier and see if it does better with more features or if we have\n",
    "#to think about changing the algorithm\n",
    "from sklearn.neighbors import KNeighborsClassifier\n",
    "from sklearn.metrics import accuracy_score\n",
    "knn = KNeighborsClassifier(n_neighbors = 109, p=2)\n",
    "knn.fit(X_train, y_train)\n",
    "predictions = knn.predict(X_test)\n",
    "acc = accuracy_score(y_test, predictions)\n",
    "print(acc)"
   ],
   "metadata": {
    "collapsed": false,
    "pycharm": {
     "name": "#%%\n"
    }
   }
  },
  {
   "cell_type": "code",
   "execution_count": 41,
   "outputs": [],
   "source": [
    "#Merging the results so model prediction is easlily comparable to the actual winner and odds.\n",
    "y_pred_df = pd.DataFrame(data = predictions, columns = ['prediction'], index = X_test.index.copy())\n",
    "df_out = pd.merge(y_pred_df,X_with_odds, how = 'left', left_index = True, right_index = True)\n"
   ],
   "metadata": {
    "collapsed": false,
    "pycharm": {
     "name": "#%%\n"
    }
   }
  },
  {
   "cell_type": "code",
   "source": [
    "clean = df_out[['prediction', 'Winner', 'R_ev', 'B_ev']]\n",
    "\n",
    "#Adding a second dataset to compare our profits to that of betting on high odds every time\n",
    "clean_high_odds = df_out[['prediction', 'Winner', 'R_ev', 'B_ev','R_odds', 'B_odds']]\n",
    "clean_high_odds.insert(2, \"Higher_odds\", (clean_high_odds['R_odds'] < clean_high_odds['B_odds']))\n",
    "clean_high_odds[\"Higher_odds\"] = clean_high_odds[\"Higher_odds\"].astype(int)"
   ],
   "metadata": {
    "collapsed": false,
    "pycharm": {
     "name": "#%%\n"
    }
   },
   "execution_count": 42,
   "outputs": [
    {
     "name": "stderr",
     "output_type": "stream",
     "text": [
      "<ipython-input-42-cfb802edc6de>:6: SettingWithCopyWarning: \n",
      "A value is trying to be set on a copy of a slice from a DataFrame.\n",
      "Try using .loc[row_indexer,col_indexer] = value instead\n",
      "\n",
      "See the caveats in the documentation: https://pandas.pydata.org/pandas-docs/stable/user_guide/indexing.html#returning-a-view-versus-a-copy\n",
      "  clean_high_odds[\"Higher_odds\"] = clean_high_odds[\"Higher_odds\"].astype(int)\n"
     ]
    }
   ]
  },
  {
   "cell_type": "markdown",
   "source": [
    "Now that we have the dataset with predicitons, winners and profit we can use this to simulate us betting\n",
    "100 units of money on 671 matches (test set for convinience) based on our model."
   ],
   "metadata": {
    "collapsed": false
   }
  },
  {
   "cell_type": "code",
   "execution_count": 43,
   "outputs": [
    {
     "name": "stdout",
     "output_type": "stream",
     "text": [
      "Total earnings: 1779.9777894589508\n",
      "That is 2.652723978329286% of the total\n"
     ]
    }
   ],
   "source": [
    "#Filtering out the losing bets (total investment will still be 671*100)\n",
    "\n",
    "correct = clean[clean['prediction'] == clean['Winner']]\n",
    "total = -100*len(clean)\n",
    "\n",
    "for index,row in correct.iterrows():\n",
    "    total += 100 #these are all wins and you always get at least your money back with a win\n",
    "    #The rest is profit:\n",
    "    if row['Winner'] == 1.0:\n",
    "        total += row['R_ev']\n",
    "    else:\n",
    "        total += row['B_ev']\n",
    "\n",
    "print(\"Total earnings: \"+str(total))\n",
    "print(\"That is \"+str((total/(100*len(clean)))*100)+\"% of the total\")\n"
   ],
   "metadata": {
    "collapsed": false,
    "pycharm": {
     "name": "#%%\n"
    }
   }
  },
  {
   "cell_type": "markdown",
   "source": [
    "From these results we see that betting using our model earns on average 2.65% profit.\n",
    "\n",
    "This is not a very high profit but compared to most other forms of gambling it is at least mathematically a viable form of investment.\n",
    "\n",
    "Lets compare these results to if we were to instead always bet on the highest odds fighter instead:"
   ],
   "metadata": {
    "collapsed": false
   }
  },
  {
   "cell_type": "code",
   "execution_count": 44,
   "outputs": [
    {
     "name": "stdout",
     "output_type": "stream",
     "text": [
      "Total earnings: -3647.363631301074\n",
      "That is -5.4357133104337905% of the total\n"
     ]
    }
   ],
   "source": [
    "correct = clean_high_odds[clean_high_odds['Higher_odds'] == clean_high_odds['Winner']]\n",
    "total = -100*len(clean_high_odds)\n",
    "\n",
    "for index,row in correct.iterrows():\n",
    "    total += 100 #these are all wins and you always get at least your money back with a win\n",
    "    #The rest is profit:\n",
    "    if row['Winner'] == 1.0:\n",
    "        total += row['R_ev']\n",
    "    else:\n",
    "        total += row['B_ev']\n",
    "\n",
    "print(\"Total earnings: \"+str(total))\n",
    "print(\"That is \"+str((total/(100*len(clean_high_odds)))*100)+\"% of the total\")"
   ],
   "metadata": {
    "collapsed": false,
    "pycharm": {
     "name": "#%%\n"
    }
   }
  },
  {
   "cell_type": "markdown",
   "source": [
    "As we saw in odds analysis the fighter with higher odds wins 63.9% of the time, which is higher than our models accuracy,\n",
    "however even if the favorite does win it doesn't always return a 2x profit,\n",
    "therefore we end up losing 5.43% of our money betting betting using this method.\n"
   ],
   "metadata": {
    "collapsed": false
   }
  },
  {
   "cell_type": "markdown",
   "source": [
    "How about when we only bet when the model predicts an upset"
   ],
   "metadata": {
    "collapsed": false,
    "pycharm": {
     "name": "#%% md\n"
    }
   }
  },
  {
   "cell_type": "code",
   "execution_count": 45,
   "outputs": [
    {
     "name": "stdout",
     "output_type": "stream",
     "text": [
      "37.257824143070046% of all bets\n",
      "42.4% accuracy\n",
      "Total earnings: 2712.434074420004\n",
      "That is 10.849736297680016% of the total\n"
     ]
    }
   ],
   "source": [
    "clean_high_odds = clean_high_odds[clean_high_odds['prediction'] != clean_high_odds['Higher_odds']]\n",
    "correct = clean_high_odds[clean_high_odds['prediction'] == clean_high_odds['Winner']]\n",
    "total = -100*len(clean_high_odds)\n",
    "print(str(len(clean_high_odds)/len(clean)*100) + \"% of all bets\")\n",
    "print(str(len(correct)/len(clean_high_odds)*100) + \"% accuracy\")\n",
    "\n",
    "for index,row in correct.iterrows():\n",
    "    total += 100 #these are all wins and you always get at least your money back with a win\n",
    "    #The rest is profit:\n",
    "    if row['Winner'] == 1.0:\n",
    "        total += row['R_ev']\n",
    "    else:\n",
    "        total += row['B_ev']\n",
    "\n",
    "print(\"Total earnings: \"+str(total))\n",
    "print(\"That is \"+str((total/(100*len(clean_high_odds)))*100)+\"% of the total\")"
   ],
   "metadata": {
    "collapsed": false,
    "pycharm": {
     "name": "#%%\n"
    }
   }
  },
  {
   "cell_type": "markdown",
   "source": [
    "With this method we only end up betting about 37% of the time and only achiveing 42.4% accuracy, but because betting\n",
    "on an underdog has a much higher payout we end up earning significantly more money than if we bet on all model predicitons.\n",
    "\n",
    "This methods rate of return is 10.8%, which is quite significant."
   ],
   "metadata": {
    "collapsed": false,
    "pycharm": {
     "name": "#%% md\n"
    }
   }
  }
 ],
 "metadata": {
  "kernelspec": {
   "display_name": "Python 3",
   "language": "python",
   "name": "python3"
  },
  "language_info": {
   "codemirror_mode": {
    "name": "ipython",
    "version": 3
   },
   "file_extension": ".py",
   "mimetype": "text/x-python",
   "name": "python",
   "nbconvert_exporter": "python",
   "pygments_lexer": "ipython3",
   "version": "3.8.3"
  }
 },
 "nbformat": 4,
 "nbformat_minor": 4
}