{
 "cells": [
  {
   "cell_type": "code",
   "execution_count": 94,
   "metadata": {},
   "outputs": [],
   "source": [
    "import pandas as pd\n",
    "\n"
   ]
  },
  {
   "cell_type": "markdown",
   "source": [
    "Testing if our highest accuract model (predicts using odds too) performs better."
   ],
   "metadata": {
    "collapsed": false
   }
  },
  {
   "cell_type": "code",
   "execution_count": 95,
   "outputs": [],
   "source": [
    "data = pd.read_csv('../../data/ufc-master.csv')\n",
    "\n",
    "data = data[['R_ev','B_ev','B_fighter', 'R_fighter', 'title_bout', 'reach_dif', 'age_dif', 'avg_td_dif', 'Winner', 'B_odds', 'R_odds', 'gender',\n",
    "            'B_wins', 'B_losses', 'R_wins', 'R_losses', 'better_rank']]\n"
   ],
   "metadata": {
    "collapsed": false,
    "pycharm": {
     "name": "#%%\n"
    }
   }
  },
  {
   "cell_type": "code",
   "execution_count": 96,
   "metadata": {},
   "outputs": [],
   "source": [
    "#Fixing the wrong reach difference values\n",
    "filter1 = (data['reach_dif'] == -187.96) & (data['B_fighter'] == 'Parker Porter')\n",
    "filter2 = (data['reach_dif'] == -187.96) & (data['B_fighter'] == 'Irwin Rivera')\n",
    "filter3 = data['reach_dif'] == -160.02\n",
    "data[filter1] = data[filter1].replace({-187.96: -2.54})\n",
    "data[filter2] = data[filter2].replace({-187.96: -17.78 })\n",
    "data[filter3] = data[filter3].replace({-160.02: 5.08})"
   ]
  },
  {
   "cell_type": "code",
   "execution_count": 97,
   "metadata": {},
   "outputs": [],
   "source": [
    "data = data.drop(columns=['B_fighter', 'R_fighter'])"
   ]
  },
  {
   "cell_type": "code",
   "execution_count": 98,
   "metadata": {},
   "outputs": [],
   "source": [
    "data['Winner'] = data['Winner'].map(dict(Blue=0, Red=1))\n",
    "data['gender'] = data['gender'].map(dict(MALE=1, FEMALE=0))\n",
    "data['title_bout'] = (data['title_bout']).astype(int)"
   ]
  },
  {
   "cell_type": "code",
   "execution_count": 99,
   "metadata": {},
   "outputs": [],
   "source": [
    "#Now we will use columns wins and losses for both fighters to create a column that has a win ratio out of all wins and losses\n",
    "B_ratio = data['B_wins'] / (data['B_wins'] + data['B_losses'])\n",
    "R_ratio = data['R_wins'] / (data['R_wins'] + data['R_losses'])\n",
    "data['B_wr'] = B_ratio\n",
    "data['R_wr'] = R_ratio\n",
    "#It is possible that in some of the rows that value is now NaN as the fighter has never fought before. In task 1 we found out\n",
    "#that the fighters making debut usually win 43% of the time so we will replace NaN with 0.43 as giving them 0 would not\n",
    "#represent reality very well\n",
    "data['B_wr'].fillna(0.43, inplace=True)\n",
    "data['R_wr'].fillna(0.43, inplace=True)\n",
    "#Now we will drop win and loss columns for both fighters because we have added the winrate column\n",
    "data = data.drop(columns=['B_wins', 'B_losses', 'R_wins', 'R_losses'])"
   ]
  },
  {
   "cell_type": "code",
   "execution_count": 100,
   "outputs": [],
   "source": [
    "odds_dif = data['B_odds'] - data['R_odds']\n",
    "data['odds_dif'] = odds_dif\n",
    "data = data.drop(columns=['B_odds', 'R_odds'])"
   ],
   "metadata": {
    "collapsed": false,
    "pycharm": {
     "name": "#%%\n"
    }
   }
  },
  {
   "cell_type": "code",
   "execution_count": 101,
   "outputs": [],
   "source": [
    "data = pd.get_dummies(data, columns=['better_rank'])"
   ],
   "metadata": {
    "collapsed": false,
    "pycharm": {
     "name": "#%%\n"
    }
   }
  },
  {
   "cell_type": "code",
   "execution_count": 102,
   "outputs": [],
   "source": [
    "#Creating training and validation sets\n",
    "from sklearn.model_selection import train_test_split\n",
    "X_train, X_test, y_train, y_test = train_test_split(data, data['Winner'], test_size = 0.15, random_state = 0)\n",
    "\n",
    "#Removing betting odds from dataset, but saving them to a different dataframe for easy comparison.\n",
    "X_train = X_train.drop(columns=['R_ev','B_ev', 'Winner'])\n",
    "X_with_odds = X_test.copy()\n",
    "X_test = X_test.drop(columns=['R_ev','B_ev', 'Winner'])"
   ],
   "metadata": {
    "collapsed": false,
    "pycharm": {
     "name": "#%%\n"
    }
   }
  },
  {
   "cell_type": "code",
   "execution_count": 103,
   "outputs": [
    {
     "name": "stdout",
     "output_type": "stream",
     "text": [
      "0.6453055141579732\n"
     ]
    }
   ],
   "source": [
    "from sklearn.metrics import accuracy_score\n",
    "from sklearn.ensemble import RandomForestClassifier\n",
    "forest = RandomForestClassifier(n_estimators = 400, random_state=0, max_depth=7)\n",
    "forest.fit(X_train, y_train)\n",
    "predictions = forest.predict(X_test)\n",
    "accuracy = accuracy_score(y_test, predictions)\n",
    "print(accuracy)"
   ],
   "metadata": {
    "collapsed": false,
    "pycharm": {
     "name": "#%%\n"
    }
   }
  },
  {
   "cell_type": "code",
   "execution_count": 104,
   "outputs": [],
   "source": [
    "#Merging the results so model prediction is easlily comparable to the actual winner and odds.\n",
    "y_pred_df = pd.DataFrame(data = predictions, columns = ['prediction'], index = X_test.index.copy())\n",
    "df_out = pd.merge(y_pred_df,X_with_odds, how = 'left', left_index = True, right_index = True)\n"
   ],
   "metadata": {
    "collapsed": false,
    "pycharm": {
     "name": "#%%\n"
    }
   }
  },
  {
   "cell_type": "code",
   "source": [
    "correct = df_out[df_out['Winner'] == df_out['prediction']]\n",
    "len(correct)/len(df_out)"
   ],
   "metadata": {
    "collapsed": false,
    "pycharm": {
     "name": "#%%\n"
    }
   },
   "execution_count": 105,
   "outputs": [
    {
     "data": {
      "text/plain": "0.6453055141579732"
     },
     "execution_count": 105,
     "metadata": {},
     "output_type": "execute_result"
    }
   ]
  },
  {
   "cell_type": "code",
   "execution_count": 106,
   "outputs": [],
   "source": [
    "clean = df_out[['prediction', 'Winner', 'R_ev', 'B_ev']]"
   ],
   "metadata": {
    "collapsed": false,
    "pycharm": {
     "name": "#%%\n"
    }
   }
  },
  {
   "cell_type": "markdown",
   "source": [
    "Now that we have the dataset with predicitons, winners and profit we can use this to simulate us betting\n",
    "100 units of money on 671 matches (test set for convinience) based on our model."
   ],
   "metadata": {
    "collapsed": false
   }
  },
  {
   "cell_type": "code",
   "execution_count": 107,
   "outputs": [
    {
     "name": "stdout",
     "output_type": "stream",
     "text": [
      "Total earnings: -1541.918191191086\n",
      "That is -2.2979406724159253% of the total\n"
     ]
    }
   ],
   "source": [
    "#Filtering out the losing bets (total investment will still be 671*100)\n",
    "\n",
    "correct = clean[clean['prediction'] == clean['Winner']]\n",
    "total = -100*len(clean)\n",
    "\n",
    "for index,row in correct.iterrows():\n",
    "    total += 100 #these are all wins and you always get at least your money back with a win\n",
    "    #The rest is profit:\n",
    "    if row['Winner'] == 1.0:\n",
    "        total += row['R_ev']\n",
    "    else:\n",
    "        total += row['B_ev']\n",
    "\n",
    "print(\"Total earnings: \"+str(total))\n",
    "print(\"That is \"+str((total/(100*len(clean)))*100)+\"% of the total\")"
   ],
   "metadata": {
    "collapsed": false,
    "pycharm": {
     "name": "#%%\n"
    }
   }
  },
  {
   "cell_type": "markdown",
   "source": [
    "We see that using a model that predicts using betting odds while giving a higher accuracy score,\n",
    "does not yield a better return of investment when it comes to betting.\n",
    "\n",
    "The loss is 2.29% which is lower than just betting on the favorite, but it is still a loss.\n",
    "\n"
   ],
   "metadata": {
    "collapsed": false,
    "pycharm": {
     "name": "#%% md\n"
    }
   }
  }
 ],
 "metadata": {
  "kernelspec": {
   "display_name": "Python 3",
   "language": "python",
   "name": "python3"
  },
  "language_info": {
   "codemirror_mode": {
    "name": "ipython",
    "version": 3
   },
   "file_extension": ".py",
   "mimetype": "text/x-python",
   "name": "python",
   "nbconvert_exporter": "python",
   "pygments_lexer": "ipython3",
   "version": "3.8.3"
  }
 },
 "nbformat": 4,
 "nbformat_minor": 4
}