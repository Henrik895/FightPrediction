{
 "cells": [
  {
   "cell_type": "markdown",
   "metadata": {},
   "source": [
    "How often do fighters making a UFC debut win?"
   ]
  },
  {
   "cell_type": "code",
   "execution_count": 14,
   "metadata": {},
   "outputs": [],
   "source": [
    "import pandas as pd"
   ]
  },
  {
   "cell_type": "code",
   "execution_count": 15,
   "metadata": {},
   "outputs": [],
   "source": [
    "data = pd.read_csv('../../data/ufc-master.csv')"
   ]
  },
  {
   "cell_type": "code",
   "execution_count": 16,
   "metadata": {},
   "outputs": [],
   "source": [
    "data = data[['B_fighter', 'R_fighter', 'B_wins', 'B_losses', 'R_wins', 'R_losses', 'B_draw', 'R_draw', 'gender', 'Winner']]"
   ]
  },
  {
   "cell_type": "code",
   "execution_count": 17,
   "metadata": {},
   "outputs": [],
   "source": [
    "debut = (data['B_wins'] + data['B_losses'] == 0) | (data['R_wins'] + data['R_losses'] == 0)\n",
    "data_debut = data[debut]"
   ]
  },
  {
   "cell_type": "markdown",
   "metadata": {},
   "source": [
    "Now we exclude fights where both of the fighters are making their UFC debuts"
   ]
  },
  {
   "cell_type": "code",
   "execution_count": 18,
   "metadata": {},
   "outputs": [],
   "source": [
    "noeq = data_debut['B_wins'] + data_debut['B_losses'] != data_debut['R_wins'] + data_debut['R_losses']\n",
    "data_debut = data_debut[noeq]"
   ]
  },
  {
   "cell_type": "code",
   "execution_count": 19,
   "metadata": {},
   "outputs": [
    {
     "name": "stdout",
     "output_type": "stream",
     "text": [
      "The fighter who is making the debut wins 43.37% of the time.\n",
      "Number of fights where one of the fighters was making a UFC debut: 830\n"
     ]
    }
   ],
   "source": [
    "wins = 0\n",
    "for i in range(len(data_debut)):\n",
    "    if (data_debut['Winner'].iloc[i] == 'Blue') & (data_debut['B_wins'].iloc[i] + data_debut['B_losses'].iloc[i] == 0):\n",
    "        wins += 1\n",
    "    elif (data_debut['Winner'].iloc[i] == 'Red') & (data_debut['R_wins'].iloc[i] + data_debut['R_losses'].iloc[i] == 0):\n",
    "        wins += 1\n",
    "p = wins / len(data_debut)\n",
    "print(\"The fighter who is making the debut wins \" + str(round(p * 100, 2)) + \"% of the time.\")\n",
    "print(\"Number of fights where one of the fighters was making a UFC debut: \" + str(len(data_debut)))"
   ]
  },
  {
   "cell_type": "markdown",
   "metadata": {},
   "source": [
    "This shows us that it is usually better to prefer the fighter who has already fought in the UFC before. Because this is based on 830 fights we can call it more than just a random occurrence."
   ]
  },
  {
   "cell_type": "markdown",
   "metadata": {},
   "source": [
    "We can also ask ourselves if there are differences between male and female fighters?"
   ]
  },
  {
   "cell_type": "code",
   "execution_count": 20,
   "metadata": {},
   "outputs": [],
   "source": [
    "male = data_debut['gender'] == 'MALE'\n",
    "female = data_debut['gender'] == 'FEMALE'\n",
    "data_male = data_debut[male].copy()\n",
    "data_female = data_debut[female].copy()"
   ]
  },
  {
   "cell_type": "code",
   "execution_count": 21,
   "metadata": {},
   "outputs": [
    {
     "name": "stdout",
     "output_type": "stream",
     "text": [
      "For male fighters the fighter making a debut wins 43.17% of the time.\n",
      "Number of fights: 732\n"
     ]
    }
   ],
   "source": [
    "wins_male = 0\n",
    "for i in range(len(data_male)):\n",
    "    if (data_male['Winner'].iloc[i] == 'Blue') & (data_male['B_wins'].iloc[i] + data_male['B_losses'].iloc[i] == 0):\n",
    "        wins_male += 1\n",
    "    elif (data_male['Winner'].iloc[i] == 'Red') & (data_male['R_wins'].iloc[i] + data_male['R_losses'].iloc[i] == 0):\n",
    "        wins_male += 1\n",
    "p2 = wins_male / len(data_male)\n",
    "print(\"For male fighters the fighter making a debut wins \" + str(round(p2 * 100, 2)) + \"% of the time.\")\n",
    "print(\"Number of fights: \" + str(len(data_male)))"
   ]
  },
  {
   "cell_type": "code",
   "execution_count": 22,
   "metadata": {},
   "outputs": [
    {
     "name": "stdout",
     "output_type": "stream",
     "text": [
      "For female fighters the fighter making a debut wins 44.9% of the time.\n",
      "Number of fights: 98\n"
     ]
    }
   ],
   "source": [
    "wins_female = 0\n",
    "for i in range(len(data_female)):\n",
    "    if (data_female['Winner'].iloc[i] == 'Blue') & (data_female['B_wins'].iloc[i] + data_female['B_losses'].iloc[i] == 0):\n",
    "        wins_female += 1\n",
    "    elif (data_female['Winner'].iloc[i] == 'Red') & (data_female['R_wins'].iloc[i] + data_female['R_losses'].iloc[i] == 0):\n",
    "        wins_female += 1\n",
    "p3 = wins_female / len(data_female)\n",
    "print(\"For female fighters the fighter making a debut wins \" + str(round(p3 * 100, 2)) + \"% of the time.\")\n",
    "print(\"Number of fights: \" + str(len(data_female)))"
   ]
  },
  {
   "cell_type": "markdown",
   "source": [
    "It seems that women win slightly more than men when making their UFC debuts, but as the sample size for women fights where one of the fighters is making a debut is 98 compared to 732 for men we can conclude that in reality there are no differences.\n",
    "\n",
    "Let's see how the win rate improves as the fighter gets more experience under their belt."
   ],
   "metadata": {
    "collapsed": false
   }
  },
  {
   "cell_type": "code",
   "execution_count": 23,
   "outputs": [],
   "source": [
    "# Now let's also see if how the win rate improves for the first 10 fights.\n",
    "winrates = []\n",
    "sample_size = []\n",
    "for m in range(11):\n",
    "    f = (data['B_wins'] + data['B_losses'] + data['B_draw'] == m) | (data['R_wins'] + data['R_losses'] + data['R_draw'] == m)\n",
    "    data_first_fights = data[f]\n",
    "    # Filter out matches where both fighters have same amount of wins and losses.\n",
    "    noeq = data_first_fights['B_wins'] + data_first_fights['B_losses'] + data_first_fights['B_draw'] != data_first_fights['R_wins'] + data_first_fights['R_losses'] + data_first_fights['R_draw']\n",
    "    data_first_fights = data_first_fights[noeq]\n",
    "\n",
    "    wins = 0\n",
    "    for i in range(len(data_first_fights)):\n",
    "        if (data_first_fights['Winner'].iloc[i] == 'Blue') & (data_first_fights['B_wins'].iloc[i] + data_first_fights['B_losses'].iloc[i] + data_first_fights['B_draw'].iloc[i] == m):\n",
    "            wins += 1\n",
    "        elif (data_first_fights['Winner'].iloc[i] == 'Red') & (data_first_fights['R_wins'].iloc[i] + data_first_fights['R_losses'].iloc[i] + data_first_fights['R_draw'].iloc[i] == m):\n",
    "            wins += 1\n",
    "    p = wins / len(data_first_fights)\n",
    "    winrates.append(p)\n",
    "    sample_size.append(len(data_first_fights))\n"
   ],
   "metadata": {
    "collapsed": false,
    "pycharm": {
     "name": "#%%\n"
    }
   }
  },
  {
   "cell_type": "code",
   "execution_count": 24,
   "outputs": [
    {
     "data": {
      "text/plain": "<Figure size 432x288 with 2 Axes>",
      "image/png": "[encoded data removed]"
     },
     "metadata": {
      "needs_background": "light"
     },
     "output_type": "display_data"
    }
   ],
   "source": [
    "import matplotlib.pyplot as plt\n",
    "\n",
    "fig, ax1 = plt.subplots()\n",
    "ax2 = ax1.twinx()\n",
    "\n",
    "ax1.bar(range(11), sample_size)\n",
    "ax1.set_ylabel(\"Fights where one fighter had x fights\")\n",
    "ax2.plot(winrates, color=\"red\")\n",
    "ax2.set_ylabel(\"Win rate of the fighter\")\n",
    "\n",
    "plt.show()"
   ],
   "metadata": {
    "collapsed": false,
    "pycharm": {
     "name": "#%%\n"
    }
   }
  },
  {
   "cell_type": "markdown",
   "source": [
    "As expected, the overall trendline increases with more experience, although it doesn't seem to be completely linear.\n",
    "\n",
    "Let's look at the same graph, but now just for fights where the fighter had more experience than the opponent."
   ],
   "metadata": {
    "collapsed": false,
    "pycharm": {
     "name": "#%% md\n"
    }
   }
  },
  {
   "cell_type": "code",
   "execution_count": 25,
   "outputs": [],
   "source": [
    "winrates = []\n",
    "sample_size = []\n",
    "for m in range(1, 11):\n",
    "    # Find fights where blue and red had m fights fought previously, while the other one had less.\n",
    "    f_b = ((data['B_wins'] + data['B_losses'] + data['B_draw'] == m) & (data['R_wins'] + data['R_losses'] + data['R_draw'] < m))\n",
    "    f_r = ((data['R_wins'] + data['R_losses'] + data['R_draw'] == m) & (data['B_wins'] + data['B_losses'] + data['B_draw'] < m))\n",
    "    data_first_fights_blue = data[f_b]\n",
    "    data_first_fights_red = data[f_r]\n",
    "\n",
    "    wins = 0\n",
    "    for i in range(len(data_first_fights_blue)):\n",
    "        if data_first_fights_blue['Winner'].iloc[i] == 'Blue':\n",
    "            wins += 1\n",
    "    for i in range(len(data_first_fights_red)):\n",
    "        if data_first_fights_red['Winner'].iloc[i] == 'Red':\n",
    "            wins += 1\n",
    "    total_fights = len(data_first_fights_red) + len(data_first_fights_blue)\n",
    "    if total_fights > 0:\n",
    "        p = wins / total_fights\n",
    "    else:\n",
    "        p = 0\n",
    "    winrates.append(p)\n",
    "    sample_size.append(total_fights)"
   ],
   "metadata": {
    "collapsed": false,
    "pycharm": {
     "name": "#%%\n"
    }
   }
  },
  {
   "cell_type": "code",
   "execution_count": 26,
   "outputs": [
    {
     "data": {
      "text/plain": "<Figure size 432x288 with 2 Axes>",
      "image/png": "[encoded data removed]"
     },
     "metadata": {
      "needs_background": "light"
     },
     "output_type": "display_data"
    }
   ],
   "source": [
    "import matplotlib.pyplot as plt\n",
    "\n",
    "fig, ax1 = plt.subplots()\n",
    "ax2 = ax1.twinx()\n",
    "\n",
    "x = range(1, 11)\n",
    "ax1.bar(x, sample_size)\n",
    "ax1.set_title(\"Win rate of fighters who were more experienced than the opponent\")\n",
    "ax1.set_ylabel(\"Fights where one fighter had x fights\")\n",
    "ax2.plot(x, winrates, color=\"red\")\n",
    "ax2.set_ylabel(\"Win rate of the fighter\")\n",
    "\n",
    "plt.show()"
   ],
   "metadata": {
    "collapsed": false,
    "pycharm": {
     "name": "#%%\n"
    }
   }
  },
  {
   "cell_type": "markdown",
   "source": [
    "While this result again isn't completely clear, it seems that on 1 fight you have really high chances of winning if your opponent has less experience than you (this means they are fighters making their debut), while next fights you'll have harder time winning. As experience grows, so does the win rate (although note that this is win rate against less experienced opponents), although either due to unpredictable nature of MMA or small sample sizes, it's not very linear.\n",
    "\n",
    "As all results however are over 50% (at least for the fights we observed), we can confidently say that having more experience than your opponent gives you an edge."
   ],
   "metadata": {
    "collapsed": false,
    "pycharm": {
     "name": "#%% md\n"
    }
   }
  }
 ],
 "metadata": {
  "kernelspec": {
   "display_name": "Python 3",
   "language": "python",
   "name": "python3"
  },
  "language_info": {
   "codemirror_mode": {
    "name": "ipython",
    "version": 3
   },
   "file_extension": ".py",
   "mimetype": "text/x-python",
   "name": "python",
   "nbconvert_exporter": "python",
   "pygments_lexer": "ipython3",
   "version": "3.8.3"
  }
 },
 "nbformat": 4,
 "nbformat_minor": 4
}