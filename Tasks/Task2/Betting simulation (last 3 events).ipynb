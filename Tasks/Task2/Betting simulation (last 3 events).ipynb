{
 "cells": [
  {
   "cell_type": "markdown",
   "metadata": {},
   "source": [
    "Simulating betting with our models. KNN 71-1 was switched to 109-3 because it was more effective for predicting upsets."
   ]
  },
  {
   "cell_type": "code",
   "execution_count": 162,
   "metadata": {},
   "outputs": [],
   "source": [
    "import pandas as pd"
   ]
  },
  {
   "cell_type": "code",
   "execution_count": 163,
   "metadata": {},
   "outputs": [],
   "source": [
    "training_data = pd.read_csv('../../data/ufc-master.csv') #For training\n",
    "prediction_data = pd.read_csv('../../data/for-predictions.csv') #Fights that models have to predict"
   ]
  },
  {
   "cell_type": "code",
   "execution_count": 164,
   "metadata": {},
   "outputs": [],
   "source": [
    "training_data = training_data[['B_fighter', 'R_fighter', 'B_odds', 'R_odds', 'title_bout', 'reach_dif', 'B_age', 'R_age', \n",
    "                               'B_current_lose_streak', 'R_current_lose_streak', 'B_current_win_streak',\n",
    "                               'R_current_win_streak', 'better_rank', 'B_wins', 'R_wins', 'B_losses', 'R_losses',\n",
    "                               'B_Stance', 'R_Stance', 'Winner']]"
   ]
  },
  {
   "cell_type": "code",
   "execution_count": 165,
   "metadata": {},
   "outputs": [],
   "source": [
    "#In the blue fighter stance column we have to fix one data point, where 'Switch' is written as 'Switch ' with an extra space\n",
    "#at the end\n",
    "training_data['B_Stance'] = training_data['B_Stance'].replace({'Switch ': 'Switch'})\n",
    "#Fixing values in the reach_dif columns\n",
    "#We will fix outliers using the data available on the UFC website instead of removing the \"broken\" datapoints entirely\n",
    "filter1 = (training_data['reach_dif'] == -187.96) & (training_data['B_fighter'] == 'Parker Porter')\n",
    "filter2 = (training_data['reach_dif'] == -187.96) & (training_data['B_fighter'] == 'Irwin Rivera')\n",
    "filter3 = training_data['reach_dif'] == -160.02\n",
    "training_data[filter1] = training_data[filter1].replace({-187.96: -2.54})\n",
    "training_data[filter2] = training_data[filter2].replace({-187.96: -17.78 })\n",
    "training_data[filter3] = training_data[filter3].replace({-160.02: 5.08})"
   ]
  },
  {
   "cell_type": "code",
   "execution_count": 166,
   "metadata": {},
   "outputs": [],
   "source": [
    "#Now we will use columns B_wins, B_losses, R_wins and R_losses to create a column for both fighters\n",
    "#that contains the win rate (proportion of wins out of wins and losses combined)\n",
    "B_ratio = training_data['B_wins'] / (training_data['B_wins'] + training_data['B_losses'])\n",
    "R_ratio = training_data['R_wins'] / (training_data['R_wins'] + training_data['R_losses'])\n",
    "training_data['B_wr'] = B_ratio\n",
    "training_data['R_wr'] = R_ratio\n",
    "#It is possible that in some of the rows that value is now NaN as the fighter has never fought before. In task 1 we found out\n",
    "#that the fighters making debut usually win 43% of the time so we will replace NaN with 0.43 as giving them 0 would not be \n",
    "# \"fair\" and will hurt the prediction accuracy\n",
    "training_data['B_wr'].fillna(0.43, inplace=True)\n",
    "training_data['R_wr'].fillna(0.43, inplace=True)\n",
    "#Now we will drop win and loss columns for both fighters because these features are not important for us anymore after\n",
    "#creating the win rate column\n",
    "training_data = training_data.drop(columns=['B_wins', 'B_losses', 'R_wins', 'R_losses'])"
   ]
  },
  {
   "cell_type": "code",
   "execution_count": 167,
   "metadata": {},
   "outputs": [],
   "source": [
    "#Changing values into 1s and 0s where necessary and one-hot encoding stance and rank features\n",
    "training_data['title_bout'] = (training_data['title_bout']).astype(int)\n",
    "training_data['Winner'] = training_data['Winner'].map(dict(Blue=1, Red=0))\n",
    "training_data = pd.get_dummies(training_data, columns=['B_Stance', 'R_Stance', 'better_rank'])"
   ]
  },
  {
   "cell_type": "code",
   "execution_count": 168,
   "metadata": {},
   "outputs": [],
   "source": [
    "#Creating training and validation sets for choosing hyperparameters for models\n",
    "from sklearn.model_selection import train_test_split\n",
    "X_train, X_val, y_train, y_val = train_test_split(training_data.drop(columns=['B_fighter', 'R_fighter', 'B_odds', 'R_odds', 'Winner']), training_data['Winner'], test_size = 0.15, random_state = 2)"
   ]
  },
  {
   "cell_type": "code",
   "execution_count": 169,
   "metadata": {
    "scrolled": false
   },
   "outputs": [
    {
     "name": "stdout",
     "output_type": "stream",
     "text": [
      "The best achieved accuracy was: 62.3%.\n",
      "The neighbors value should be: 71\n",
      "The value for p should be: 1\n"
     ]
    }
   ],
   "source": [
    "from sklearn.neighbors import KNeighborsClassifier\n",
    "from sklearn.metrics import accuracy_score\n",
    "#Note: in the KNN algorithm p=1 is Manhattan distance and p=2 is the Euclidean distance\n",
    "best_acc = 0\n",
    "best_comb = [0, 0]\n",
    "for i in range(1, 301, 10):\n",
    "    for j in range(1, 3, 1):\n",
    "        model = KNeighborsClassifier(n_neighbors = i, p = j)\n",
    "        model.fit(X_train, y_train)\n",
    "        acc = accuracy_score(y_val, model.predict(X_val))\n",
    "        if (acc > best_acc):\n",
    "            best_acc = acc\n",
    "            best_comb[0] = i\n",
    "            best_comb[1] = j\n",
    "print(\"The best achieved accuracy was: \" + str(round(best_acc * 100, 2)) + \"%.\")\n",
    "print(\"The neighbors value should be: \" + str(best_comb[0]))\n",
    "print(\"The value for p should be: \" + str(best_comb[1]))"
   ]
  },
  {
   "cell_type": "code",
   "execution_count": 170,
   "metadata": {},
   "outputs": [
    {
     "name": "stdout",
     "output_type": "stream",
     "text": [
      "Accuracy of the forest classifier model: 0.6050670640834576\n"
     ]
    }
   ],
   "source": [
    "from sklearn.metrics import accuracy_score\n",
    "from sklearn.ensemble import RandomForestClassifier\n",
    "forest = RandomForestClassifier(n_estimators = 350, random_state=0, max_depth=11, max_features=9)\n",
    "forest.fit(X_train, y_train)\n",
    "accuracy = accuracy_score(y_val, forest.predict(X_val))\n",
    "print(\"Accuracy of the forest classifier model: \" + str(accuracy))"
   ]
  },
  {
   "cell_type": "code",
   "execution_count": 171,
   "metadata": {},
   "outputs": [],
   "source": [
    "pred = pd.read_csv('../../data/for-predictions.csv')\n",
    "pred_df = pred[['B_odds', 'R_odds', 'title_bout', 'reach_dif', 'B_age', 'R_age', \n",
    "                               'B_current_lose_streak', 'R_current_lose_streak', 'B_current_win_streak',\n",
    "                               'R_current_win_streak', 'better_rank', 'B_wins', 'R_wins', 'B_losses', 'R_losses',\n",
    "                               'B_Stance', 'R_Stance']].copy(deep=True)"
   ]
  },
  {
   "cell_type": "code",
   "execution_count": 172,
   "metadata": {},
   "outputs": [],
   "source": [
    "#Now we will use columns wins and losses for both fighters to create a column that has a win ratio out of all wins and losses\n",
    "B_ratio = pred_df['B_wins'] / (pred_df['B_wins'] + pred_df['B_losses'])\n",
    "R_ratio = pred_df['R_wins'] / (pred_df['R_wins'] + pred_df['R_losses'])\n",
    "pred_df['B_wr'] = B_ratio\n",
    "pred_df['R_wr'] = R_ratio\n",
    "#It is possible that in some of the rows that value is now NaN as the fighter has never fought before. In task 1 we found out\n",
    "#that the fighters making debut usually win 43% of the time so we will replace NaN with 0.43 as giving them 0 would not \n",
    "#represent reality very well\n",
    "pred_df['B_wr'].fillna(0.43, inplace=True)\n",
    "pred_df['R_wr'].fillna(0.43, inplace=True)\n",
    "#Now we will drop win and loss columns for both fighters because we have added the winrate column\n",
    "pred_df = pred_df.drop(columns=['B_wins', 'B_losses', 'R_wins', 'R_losses'])"
   ]
  },
  {
   "cell_type": "code",
   "execution_count": 173,
   "metadata": {},
   "outputs": [],
   "source": [
    "#One-hot encoding as in the training dataset\n",
    "pred_df = pd.get_dummies(pred_df, columns=['B_Stance', 'R_Stance', 'better_rank'])"
   ]
  },
  {
   "cell_type": "code",
   "execution_count": 174,
   "metadata": {},
   "outputs": [],
   "source": [
    "#Adding missing columns (one-hot encoding does not create them when some values are not represented)\n",
    "pred_df['better_rank_Blue'] = 0\n",
    "pred_df['B_Stance_Open Stance'] = 0\n",
    "pred_df['R_Stance_Open Stance'] = 0"
   ]
  },
  {
   "cell_type": "code",
   "execution_count": 175,
   "metadata": {},
   "outputs": [],
   "source": [
    "knn_final_1 = KNeighborsClassifier(n_neighbors = 109, p=3)\n",
    "knn_final_1.fit(training_data.drop(columns=['B_fighter', 'R_fighter', 'B_odds', 'R_odds', 'Winner']), training_data['Winner'])\n",
    "pred['KNN'] = knn_final_1.predict(pred_df.drop(columns=['B_odds', 'R_odds']))"
   ]
  },
  {
   "cell_type": "code",
   "metadata": {
    "pycharm": {
     "name": "#%%\n"
    }
   },
   "source": [
    "knn_final_2 = KNeighborsClassifier(n_neighbors = 109, p=3)\n",
    "knn_final_2.fit(training_data.drop(columns=['B_fighter', 'R_fighter', 'Winner']), training_data['Winner'])\n",
    "pred['KNN-2'] = knn_final_2.predict(pred_df)"
   ],
   "execution_count": 176,
   "outputs": []
  },
  {
   "cell_type": "markdown",
   "metadata": {},
   "source": [
    "Predictions with random forest classifier"
   ]
  },
  {
   "cell_type": "markdown",
   "metadata": {},
   "source": [
    "Model that does not use betting values that were available before the fight"
   ]
  },
  {
   "cell_type": "code",
   "execution_count": 177,
   "metadata": {},
   "outputs": [],
   "source": [
    "forest_final_1 = RandomForestClassifier(n_estimators = 350, random_state=0, max_depth=11, max_features=9)\n",
    "forest_final_1.fit(training_data.drop(columns=['B_fighter', 'R_fighter', 'B_odds', 'R_odds', 'Winner']), training_data['Winner'])\n",
    "pred['Forest'] = forest_final_1.predict(pred_df.drop(columns=['B_odds', 'R_odds']))"
   ]
  },
  {
   "cell_type": "markdown",
   "metadata": {},
   "source": [
    "Model that uses betting values that were available"
   ]
  },
  {
   "cell_type": "code",
   "execution_count": 178,
   "metadata": {},
   "outputs": [],
   "source": [
    "forest_final_2 = RandomForestClassifier(n_estimators = 350, random_state=0, max_depth=11, max_features=9)\n",
    "forest_final_2.fit(training_data.drop(columns=['B_fighter', 'R_fighter', 'Winner']), training_data['Winner'])\n",
    "pred['Forest-2'] = forest_final_2.predict(pred_df)"
   ]
  },
  {
   "cell_type": "markdown",
   "metadata": {},
   "source": [
    "Checking the prediction results of the models"
   ]
  },
  {
   "cell_type": "markdown",
   "metadata": {},
   "source": [
    "To which events fights in the dataset for predictions belonged  \n",
    "UFC 256 (December 12) - fights 0-9  \n",
    "UFC Vegas 16 (December 5) - fights 10-20  \n",
    "UFC Vegas 15 (November 28) - fights 20-30"
   ]
  },
  {
   "cell_type": "code",
   "execution_count": 179,
   "metadata": {
    "scrolled": true
   },
   "outputs": [
    {
     "data": {
      "text/plain": "              B_fighter            R_fighter  KNN  Forest  KNN-2  Forest-2  \\\n0        Brandon Moreno  Deiveson Figueiredo    1       1      0         0   \n1      Charles Oliveira        Tony Ferguson    1       1      0         1   \n2       Virna Jandiroba       Mackenzie Dern    0       0      0         0   \n3         Ronaldo Souza        Kevin Holland    0       0      0         0   \n4            Ciryl Gane    Junior dos Santos    1       1      1         1   \n5         Daniel Pineda          Cub Swanson    1       1      1         1   \n6         Rafael Fiziev       Renato Moicano    1       1      1         1   \n7     Billy Quarantillo         Gavin Tucker    0       1      1         0   \n8            Sam Hughes         Tecia Torres    1       1      0         0   \n9         Peter Barrett         Chase Hooper    0       0      0         0   \n10       Marvin Vettori      Jack Hermansson    0       0      0         0   \n11         Jamahal Hill   Ovince Saint Preux    1       0      1         1   \n12        Justin Jaynes      Gabriel Benitez    0       0      0         0   \n13         Taila Santos   Montana De La Rosa    0       0      1         1   \n14           John Allan        Roman Dolidze    0       0      0         0   \n15        Movsar Evloev        Nate Landwehr    1       1      1         1   \n16        Jose Quinonez         Louis Smolka    0       0      0         0   \n17       Jordan Leavitt           Matt Wiman    1       1      1         1   \n18          Cody Durden          Jimmy Flick    0       0      0         0   \n19        Damon Jackson         Ilia Topuria    0       0      0         0   \n20         Jake Collier        Gian Villante    0       0      0         0   \n21          Devin Clark        Anthony Smith    0       0      0         0   \n22         Takashi Sato         Miguel Baeza    0       0      0         0   \n23        Parker Porter        Josh Parisian    0       0      0         0   \n24           Bill Algeo        Spike Carlyle    0       0      0         0   \n25         Norma Dumont   Ashlee Evans-Smith    0       0      0         0   \n26           Kai Kamaka      Jonathan Pearce    0       1      1         1   \n27  Anderson Dos Santos           Martin Day    0       0      0         1   \n28     Rachael Ostovich          Gina Mazany    0       0      0         1   \n29       Malcolm Gordon          Su Mudaerji    0       0      0         0   \n30          Nate Maness         Luke Sanders    1       1      0         1   \n\n    Winner  B_odds  R_odds  \n0      0.5     250    -330  \n1      1.0     140    -175  \n2      0.0     160    -200  \n3      0.0    -118    -106  \n4      1.0    -455     333  \n5      0.0    -159     127  \n6      1.0    -159     130  \n7      0.0    -167     135  \n8      0.0     355    -500  \n9      0.0     255    -335  \n10     1.0    -134     110  \n11     1.0    -177     140  \n12     0.0     170    -215  \n13    -1.0    -225     175  \n14     0.0     160    -200  \n15    -1.0    -590     400  \n16     0.0     112    -139  \n17     1.0    -420     310  \n18    -1.0     145    -182  \n19     0.0     210    -275  \n20     1.0     160    -200  \n21     0.0     115    -139  \n22     0.0     140    -175  \n23     1.0     160    -200  \n24     1.0     140    -177  \n25     1.0     110    -137  \n26     0.0    -335     245  \n27     1.0     135    -167  \n28     0.0     160    -200  \n29     0.0     250    -335  \n30     1.0     125    -155  ",
      "text/html": "<div>\n<style scoped>\n    .dataframe tbody tr th:only-of-type {\n        vertical-align: middle;\n    }\n\n    .dataframe tbody tr th {\n        vertical-align: top;\n    }\n\n    .dataframe thead th {\n        text-align: right;\n    }\n</style>\n<table border=\"1\" class=\"dataframe\">\n  <thead>\n    <tr style=\"text-align: right;\">\n      <th></th>\n      <th>B_fighter</th>\n      <th>R_fighter</th>\n      <th>KNN</th>\n      <th>Forest</th>\n      <th>KNN-2</th>\n      <th>Forest-2</th>\n      <th>Winner</th>\n      <th>B_odds</th>\n      <th>R_odds</th>\n    </tr>\n  </thead>\n  <tbody>\n    <tr>\n      <th>0</th>\n      <td>Brandon Moreno</td>\n      <td>Deiveson Figueiredo</td>\n      <td>1</td>\n      <td>1</td>\n      <td>0</td>\n      <td>0</td>\n      <td>0.5</td>\n      <td>250</td>\n      <td>-330</td>\n    </tr>\n    <tr>\n      <th>1</th>\n      <td>Charles Oliveira</td>\n      <td>Tony Ferguson</td>\n      <td>1</td>\n      <td>1</td>\n      <td>0</td>\n      <td>1</td>\n      <td>1.0</td>\n      <td>140</td>\n      <td>-175</td>\n    </tr>\n    <tr>\n      <th>2</th>\n      <td>Virna Jandiroba</td>\n      <td>Mackenzie Dern</td>\n      <td>0</td>\n      <td>0</td>\n      <td>0</td>\n      <td>0</td>\n      <td>0.0</td>\n      <td>160</td>\n      <td>-200</td>\n    </tr>\n    <tr>\n      <th>3</th>\n      <td>Ronaldo Souza</td>\n      <td>Kevin Holland</td>\n      <td>0</td>\n      <td>0</td>\n      <td>0</td>\n      <td>0</td>\n      <td>0.0</td>\n      <td>-118</td>\n      <td>-106</td>\n    </tr>\n    <tr>\n      <th>4</th>\n      <td>Ciryl Gane</td>\n      <td>Junior dos Santos</td>\n      <td>1</td>\n      <td>1</td>\n      <td>1</td>\n      <td>1</td>\n      <td>1.0</td>\n      <td>-455</td>\n      <td>333</td>\n    </tr>\n    <tr>\n      <th>5</th>\n      <td>Daniel Pineda</td>\n      <td>Cub Swanson</td>\n      <td>1</td>\n      <td>1</td>\n      <td>1</td>\n      <td>1</td>\n      <td>0.0</td>\n      <td>-159</td>\n      <td>127</td>\n    </tr>\n    <tr>\n      <th>6</th>\n      <td>Rafael Fiziev</td>\n      <td>Renato Moicano</td>\n      <td>1</td>\n      <td>1</td>\n      <td>1</td>\n      <td>1</td>\n      <td>1.0</td>\n      <td>-159</td>\n      <td>130</td>\n    </tr>\n    <tr>\n      <th>7</th>\n      <td>Billy Quarantillo</td>\n      <td>Gavin Tucker</td>\n      <td>0</td>\n      <td>1</td>\n      <td>1</td>\n      <td>0</td>\n      <td>0.0</td>\n      <td>-167</td>\n      <td>135</td>\n    </tr>\n    <tr>\n      <th>8</th>\n      <td>Sam Hughes</td>\n      <td>Tecia Torres</td>\n      <td>1</td>\n      <td>1</td>\n      <td>0</td>\n      <td>0</td>\n      <td>0.0</td>\n      <td>355</td>\n      <td>-500</td>\n    </tr>\n    <tr>\n      <th>9</th>\n      <td>Peter Barrett</td>\n      <td>Chase Hooper</td>\n      <td>0</td>\n      <td>0</td>\n      <td>0</td>\n      <td>0</td>\n      <td>0.0</td>\n      <td>255</td>\n      <td>-335</td>\n    </tr>\n    <tr>\n      <th>10</th>\n      <td>Marvin Vettori</td>\n      <td>Jack Hermansson</td>\n      <td>0</td>\n      <td>0</td>\n      <td>0</td>\n      <td>0</td>\n      <td>1.0</td>\n      <td>-134</td>\n      <td>110</td>\n    </tr>\n    <tr>\n      <th>11</th>\n      <td>Jamahal Hill</td>\n      <td>Ovince Saint Preux</td>\n      <td>1</td>\n      <td>0</td>\n      <td>1</td>\n      <td>1</td>\n      <td>1.0</td>\n      <td>-177</td>\n      <td>140</td>\n    </tr>\n    <tr>\n      <th>12</th>\n      <td>Justin Jaynes</td>\n      <td>Gabriel Benitez</td>\n      <td>0</td>\n      <td>0</td>\n      <td>0</td>\n      <td>0</td>\n      <td>0.0</td>\n      <td>170</td>\n      <td>-215</td>\n    </tr>\n    <tr>\n      <th>13</th>\n      <td>Taila Santos</td>\n      <td>Montana De La Rosa</td>\n      <td>0</td>\n      <td>0</td>\n      <td>1</td>\n      <td>1</td>\n      <td>-1.0</td>\n      <td>-225</td>\n      <td>175</td>\n    </tr>\n    <tr>\n      <th>14</th>\n      <td>John Allan</td>\n      <td>Roman Dolidze</td>\n      <td>0</td>\n      <td>0</td>\n      <td>0</td>\n      <td>0</td>\n      <td>0.0</td>\n      <td>160</td>\n      <td>-200</td>\n    </tr>\n    <tr>\n      <th>15</th>\n      <td>Movsar Evloev</td>\n      <td>Nate Landwehr</td>\n      <td>1</td>\n      <td>1</td>\n      <td>1</td>\n      <td>1</td>\n      <td>-1.0</td>\n      <td>-590</td>\n      <td>400</td>\n    </tr>\n    <tr>\n      <th>16</th>\n      <td>Jose Quinonez</td>\n      <td>Louis Smolka</td>\n      <td>0</td>\n      <td>0</td>\n      <td>0</td>\n      <td>0</td>\n      <td>0.0</td>\n      <td>112</td>\n      <td>-139</td>\n    </tr>\n    <tr>\n      <th>17</th>\n      <td>Jordan Leavitt</td>\n      <td>Matt Wiman</td>\n      <td>1</td>\n      <td>1</td>\n      <td>1</td>\n      <td>1</td>\n      <td>1.0</td>\n      <td>-420</td>\n      <td>310</td>\n    </tr>\n    <tr>\n      <th>18</th>\n      <td>Cody Durden</td>\n      <td>Jimmy Flick</td>\n      <td>0</td>\n      <td>0</td>\n      <td>0</td>\n      <td>0</td>\n      <td>-1.0</td>\n      <td>145</td>\n      <td>-182</td>\n    </tr>\n    <tr>\n      <th>19</th>\n      <td>Damon Jackson</td>\n      <td>Ilia Topuria</td>\n      <td>0</td>\n      <td>0</td>\n      <td>0</td>\n      <td>0</td>\n      <td>0.0</td>\n      <td>210</td>\n      <td>-275</td>\n    </tr>\n    <tr>\n      <th>20</th>\n      <td>Jake Collier</td>\n      <td>Gian Villante</td>\n      <td>0</td>\n      <td>0</td>\n      <td>0</td>\n      <td>0</td>\n      <td>1.0</td>\n      <td>160</td>\n      <td>-200</td>\n    </tr>\n    <tr>\n      <th>21</th>\n      <td>Devin Clark</td>\n      <td>Anthony Smith</td>\n      <td>0</td>\n      <td>0</td>\n      <td>0</td>\n      <td>0</td>\n      <td>0.0</td>\n      <td>115</td>\n      <td>-139</td>\n    </tr>\n    <tr>\n      <th>22</th>\n      <td>Takashi Sato</td>\n      <td>Miguel Baeza</td>\n      <td>0</td>\n      <td>0</td>\n      <td>0</td>\n      <td>0</td>\n      <td>0.0</td>\n      <td>140</td>\n      <td>-175</td>\n    </tr>\n    <tr>\n      <th>23</th>\n      <td>Parker Porter</td>\n      <td>Josh Parisian</td>\n      <td>0</td>\n      <td>0</td>\n      <td>0</td>\n      <td>0</td>\n      <td>1.0</td>\n      <td>160</td>\n      <td>-200</td>\n    </tr>\n    <tr>\n      <th>24</th>\n      <td>Bill Algeo</td>\n      <td>Spike Carlyle</td>\n      <td>0</td>\n      <td>0</td>\n      <td>0</td>\n      <td>0</td>\n      <td>1.0</td>\n      <td>140</td>\n      <td>-177</td>\n    </tr>\n    <tr>\n      <th>25</th>\n      <td>Norma Dumont</td>\n      <td>Ashlee Evans-Smith</td>\n      <td>0</td>\n      <td>0</td>\n      <td>0</td>\n      <td>0</td>\n      <td>1.0</td>\n      <td>110</td>\n      <td>-137</td>\n    </tr>\n    <tr>\n      <th>26</th>\n      <td>Kai Kamaka</td>\n      <td>Jonathan Pearce</td>\n      <td>0</td>\n      <td>1</td>\n      <td>1</td>\n      <td>1</td>\n      <td>0.0</td>\n      <td>-335</td>\n      <td>245</td>\n    </tr>\n    <tr>\n      <th>27</th>\n      <td>Anderson Dos Santos</td>\n      <td>Martin Day</td>\n      <td>0</td>\n      <td>0</td>\n      <td>0</td>\n      <td>1</td>\n      <td>1.0</td>\n      <td>135</td>\n      <td>-167</td>\n    </tr>\n    <tr>\n      <th>28</th>\n      <td>Rachael Ostovich</td>\n      <td>Gina Mazany</td>\n      <td>0</td>\n      <td>0</td>\n      <td>0</td>\n      <td>1</td>\n      <td>0.0</td>\n      <td>160</td>\n      <td>-200</td>\n    </tr>\n    <tr>\n      <th>29</th>\n      <td>Malcolm Gordon</td>\n      <td>Su Mudaerji</td>\n      <td>0</td>\n      <td>0</td>\n      <td>0</td>\n      <td>0</td>\n      <td>0.0</td>\n      <td>250</td>\n      <td>-335</td>\n    </tr>\n    <tr>\n      <th>30</th>\n      <td>Nate Maness</td>\n      <td>Luke Sanders</td>\n      <td>1</td>\n      <td>1</td>\n      <td>0</td>\n      <td>1</td>\n      <td>1.0</td>\n      <td>125</td>\n      <td>-155</td>\n    </tr>\n  </tbody>\n</table>\n</div>"
     },
     "execution_count": 179,
     "metadata": {},
     "output_type": "execute_result"
    }
   ],
   "source": [
    "#Reminder: in the model predictions 1 is the blue fighter and 0 is the red fighter\n",
    "winners = [0.5, 1, 0, 0, 1, 0, 1, 0, 0, 0, 1, 1, 0, -1, 0, -1, 0, 1, -1, 0, 1, 0, 0, 1, 1, 1, 0, 1, 0, 0, 1]\n",
    "pred['Winner'] = winners\n",
    "results = pred[['B_fighter', 'R_fighter', 'KNN', 'Forest', 'KNN-2', 'Forest-2', 'Winner', 'B_odds', 'R_odds']].copy(deep=True)\n",
    "#How the results table looks\n",
    "results"
   ]
  },
  {
   "cell_type": "markdown",
   "metadata": {},
   "source": [
    "Accuracy results for each model"
   ]
  },
  {
   "cell_type": "code",
   "execution_count": 180,
   "metadata": {},
   "outputs": [
    {
     "name": "stdout",
     "output_type": "stream",
     "text": [
      "KNN prediction accuracy: 67.86%.\n",
      "Forest prediction accuracy: 57.14%.\n",
      "KNN-2 (with odds) prediction accuracy: 57.14%.\n",
      "Forest prediction (with odds) accuracy: 67.86%.\n"
     ]
    }
   ],
   "source": [
    "KNN_acc = 0\n",
    "Forest_acc = 0\n",
    "KNN_acc_2 = 0\n",
    "Forest_acc_2 = 0\n",
    "fights_happened = 0\n",
    "for i in range(0, 31):\n",
    "    if (results['Winner'].iloc[i] != -1):\n",
    "        fights_happened += 1\n",
    "    if (results['Winner'].iloc[i] == results['KNN'].iloc[i]):\n",
    "        KNN_acc += 1\n",
    "    if (results['Winner'].iloc[i] == results['Forest'].iloc[i]):\n",
    "        Forest_acc += 1\n",
    "    if (results['Winner'].iloc[i] == results['KNN-2'].iloc[i]):\n",
    "        KNN_acc_2 += 1\n",
    "    if (results['Winner'].iloc[i] == results['Forest-2'].iloc[i]):\n",
    "        Forest_acc_2 += 1\n",
    "        \n",
    "print(\"KNN prediction accuracy: \" + str(round((KNN_acc / fights_happened) * 100, 2)) + \"%.\")\n",
    "print(\"Forest prediction accuracy: \" + str(round((Forest_acc / fights_happened) * 100, 2)) + \"%.\")\n",
    "print(\"KNN-2 (with odds) prediction accuracy: \" + str(round((KNN_acc_2 / fights_happened) * 100, 2)) + \"%.\")\n",
    "print(\"Forest prediction (with odds) accuracy: \" + str(round((Forest_acc_2 / fights_happened) * 100, 2)) + \"%.\")"
   ]
  },
  {
   "cell_type": "markdown",
   "source": [
    "Simulating betting with all 4 prediciton models."
   ],
   "metadata": {
    "collapsed": false,
    "pycharm": {
     "name": "#%% md\n"
    }
   }
  },
  {
   "cell_type": "code",
   "execution_count": 181,
   "outputs": [
    {
     "name": "stdout",
     "output_type": "stream",
     "text": [
      "Total spent:2800\n",
      "Betting 100 units on 28 matches:\n",
      "KNN (no odds) made: 498.12193136841915, that is 17.79006897744354%\n",
      "Forest (no odds) made: -238.37524377282352, that is -8.513401563315126%\n",
      "KNN made: -426.8780686315804, that is -15.245645308270728%\n",
      "Forest made: 358.12193136841915, that is 12.790068977443541%\n"
     ]
    }
   ],
   "source": [
    "import numpy as np\n",
    "KNN_total = 0\n",
    "Forest_total = 0\n",
    "KNN_total_2 = 0\n",
    "Forest_total_2 = 0\n",
    "fights_happened = 0\n",
    "b_payout = 0\n",
    "r_payout = 0\n",
    "winner_payout = 0\n",
    "bet = 100\n",
    "\n",
    "\n",
    "for i in range(0, 31):\n",
    "    if results['B_odds'].iloc[i] < 0:\n",
    "        b_payout = bet/(np.abs(results['B_odds'].iloc[i]/100))\n",
    "    else:\n",
    "        b_payout = results['B_odds'].iloc[i]\n",
    "\n",
    "    if results['R_odds'].iloc[i] < 0:\n",
    "        r_payout = bet/(np.abs(results['R_odds'].iloc[i]/100))\n",
    "    else:\n",
    "        r_payout = results['R_odds'].iloc[i]\n",
    "\n",
    "    if results['Winner'].iloc[i] != -1:\n",
    "        fights_happened += 1\n",
    "        if results['Winner'].iloc[i] == 0:\n",
    "            winner_payout = r_payout\n",
    "        else:\n",
    "            winner_payout = b_payout\n",
    "\n",
    "    if results['Winner'].iloc[i] == results['KNN'].iloc[i]:\n",
    "        KNN_total += winner_payout + bet\n",
    "    if results['Winner'].iloc[i] == results['Forest'].iloc[i]:\n",
    "        Forest_total += winner_payout + bet\n",
    "    if results['Winner'].iloc[i] == results['KNN-2'].iloc[i]:\n",
    "        KNN_total_2 += winner_payout + bet\n",
    "    if results['Winner'].iloc[i] == results['Forest-2'].iloc[i]:\n",
    "        Forest_total_2 += winner_payout + bet\n",
    "\n",
    "print(\"Total spent:\" + str(fights_happened*bet))\n",
    "total_bet = fights_happened*bet\n",
    "print(\"Betting \"+str(bet)+\" units on \"+str(fights_happened)+\" matches:\")\n",
    "print(\"KNN (no odds) made: \"+str(KNN_total-total_bet) + \", that is \" +str(((KNN_total-total_bet)/total_bet*100))+\"%\")\n",
    "print(\"Forest (no odds) made: \"+str(Forest_total-total_bet)+ \", that is \" +str(((Forest_total-total_bet)/total_bet*100))+\"%\")\n",
    "print(\"KNN made: \"+str(KNN_total_2-total_bet)+ \", that is \" +str(((KNN_total_2-total_bet)/total_bet*100))+\"%\")\n",
    "print(\"Forest made: \"+str(Forest_total_2-total_bet)+ \", that is \" +str(((Forest_total_2-total_bet)/total_bet*100))+\"%\")\n"
   ],
   "metadata": {
    "collapsed": false,
    "pycharm": {
     "name": "#%%\n"
    }
   }
  },
  {
   "cell_type": "markdown",
   "source": [
    "We see that KNN 109 model earned the most since we knew it was good at prediciting upsets.\n",
    "\n",
    "\n",
    "Interesingly the forest model that used odds for predicting earned a significant profit as well even though it was accurate\n",
    "for different fights.\n",
    "\n",
    "Betting only when our models predicted an upset:"
   ],
   "metadata": {
    "collapsed": false,
    "pycharm": {
     "name": "#%% md\n"
    }
   }
  },
  {
   "cell_type": "code",
   "execution_count": 182,
   "outputs": [
    {
     "name": "stdout",
     "output_type": "stream",
     "text": [
      "Total spent:2000\n",
      "Total spent:2100\n",
      "Total spent:2600\n",
      "Total spent:2100\n",
      "KNN (no odds) made: 58.78230872690983, that is 2.9391154363454914%\n",
      "Forest (no odds) made: -197.71486641433353, that is -9.414993638777787%\n",
      "KNN made: -421.21769127309017, that is -16.20068043358039%\n",
      "Forest made: -571.2176912730904, that is -3.3913186320519233%\n"
     ]
    }
   ],
   "source": [
    "KNN_total = 0\n",
    "KNN_bet = 0\n",
    "Forest_total = 0\n",
    "Forest_bet = 0\n",
    "KNN_total_2 = 0\n",
    "KNN_bet_2 = 0\n",
    "Forest_total_2 = 0\n",
    "Forest_bet_2 = 0\n",
    "fights_happened = 0\n",
    "b_payout = 0\n",
    "r_payout = 0\n",
    "winner_payout = 0\n",
    "bet = 100\n",
    "\n",
    "\n",
    "for i in range(0, 31):\n",
    "    if results['B_odds'].iloc[i] < 0:\n",
    "        b_payout = bet/(np.abs(results['B_odds'].iloc[i]/100))\n",
    "    else:\n",
    "        b_payout = results['B_odds'].iloc[i]\n",
    "\n",
    "\n",
    "    if results['R_odds'].iloc[i] < 0:\n",
    "        r_payout = bet/(np.abs(results['R_odds'].iloc[i]/100))\n",
    "    else:\n",
    "        r_payout = results['R_odds'].iloc[i]\n",
    "    upset = False\n",
    "    if results['Winner'].iloc[i] != -1:\n",
    "        fights_happened += 1\n",
    "\n",
    "        if results['R_odds'].iloc[i] < results['B_odds'].iloc[i]:\n",
    "            if results['KNN'].iloc[i] == 0:\n",
    "                KNN_bet += bet\n",
    "            if results['Forest'].iloc[i] == 0:\n",
    "                Forest_bet += bet\n",
    "            if results['KNN-2'].iloc[i] == 0:\n",
    "                KNN_bet_2 += bet\n",
    "            if results['Forest-2'].iloc[i] == 0:\n",
    "                Forest_bet_2 += bet\n",
    "\n",
    "        if results['R_odds'].iloc[i] > results['B_odds'].iloc[i]:\n",
    "            if results['KNN'].iloc[i] == 1:\n",
    "                KNN_bet += bet\n",
    "            if results['Forest'].iloc[i] == 1:\n",
    "                Forest_bet += bet\n",
    "            if results['KNN-2'].iloc[i] == 1:\n",
    "                KNN_bet_2 += bet\n",
    "            if results['Forest-2'].iloc[i] == 1:\n",
    "                Forest_bet_2 += bet\n",
    "\n",
    "        if results['Winner'].iloc[i] == 0:\n",
    "            if results['R_odds'].iloc[i] > results['B_odds'].iloc[i]:\n",
    "                continue\n",
    "            winner_payout = r_payout\n",
    "        else:\n",
    "            if results['R_odds'].iloc[i] < results['B_odds'].iloc[i]:\n",
    "                continue\n",
    "            winner_payout = b_payout\n",
    "\n",
    "\n",
    "    if results['Winner'].iloc[i] == results['KNN'].iloc[i]:\n",
    "        KNN_total += winner_payout + bet\n",
    "    if results['Winner'].iloc[i] == results['Forest'].iloc[i]:\n",
    "\n",
    "        Forest_total += winner_payout + bet\n",
    "    if results['Winner'].iloc[i] == results['KNN-2'].iloc[i]:\n",
    "        KNN_total_2 += winner_payout + bet\n",
    "    if results['Winner'].iloc[i] == results['Forest-2'].iloc[i]:\n",
    "        Forest_total_2 += winner_payout + bet\n",
    "\n",
    "print(\"Total spent:\" + str(KNN_bet))\n",
    "print(\"Total spent:\" + str(Forest_bet))\n",
    "print(\"Total spent:\" + str(KNN_bet_2))\n",
    "print(\"Total spent:\" + str(Forest_bet_2))\n",
    "\n",
    "print(\"KNN (no odds) made: \"+str(KNN_total-KNN_bet) + \", that is \" +str(((KNN_total-KNN_bet)/KNN_bet*100))+\"%\")\n",
    "print(\"Forest (no odds) made: \"+str(Forest_total-Forest_bet)+ \", that is \" +str(((Forest_total-Forest_bet)/Forest_bet*100))+\"%\")\n",
    "print(\"KNN made: \"+str(KNN_total_2-KNN_bet_2)+ \", that is \" +str(((KNN_total_2-KNN_bet_2)/KNN_bet_2*100))+\"%\")\n",
    "print(\"Forest made: \"+str(Forest_total_2-KNN_bet_2)+ \", that is \" +str(((Forest_total_2-Forest_bet_2)/Forest_bet_2*100))+\"%\")"
   ],
   "metadata": {
    "collapsed": false,
    "pycharm": {
     "name": "#%%\n"
    }
   }
  },
  {
   "cell_type": "markdown",
   "source": [
    "We see that the method of betting only when the model predicts an upset is not as effective as it was with the random test dataset."
   ],
   "metadata": {
    "collapsed": false
   }
  }
 ],
 "metadata": {
  "kernelspec": {
   "display_name": "Python 3",
   "language": "python",
   "name": "python3"
  },
  "language_info": {
   "codemirror_mode": {
    "name": "ipython",
    "version": 3
   },
   "file_extension": ".py",
   "mimetype": "text/x-python",
   "name": "python",
   "nbconvert_exporter": "python",
   "pygments_lexer": "ipython3",
   "version": "3.8.3"
  }
 },
 "nbformat": 4,
 "nbformat_minor": 4
}