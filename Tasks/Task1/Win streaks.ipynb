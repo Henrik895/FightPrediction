{
 "cells": [
  {
   "cell_type": "markdown",
   "metadata": {},
   "source": [
    "Do win streaks matter?"
   ]
  },
  {
   "cell_type": "code",
   "execution_count": 2,
   "metadata": {},
   "outputs": [],
   "source": [
    "import pandas as pd\n",
    "import matplotlib.pyplot as plt"
   ]
  },
  {
   "cell_type": "code",
   "execution_count": 3,
   "metadata": {},
   "outputs": [],
   "source": [
    "data = pd.read_csv('../../data/ufc-master.csv')"
   ]
  },
  {
   "cell_type": "code",
   "execution_count": 4,
   "metadata": {},
   "outputs": [],
   "source": [
    "data = data[['B_fighter', 'R_fighter', 'B_current_win_streak', 'R_current_win_streak', 'Winner']]"
   ]
  },
  {
   "cell_type": "code",
   "execution_count": 5,
   "metadata": {},
   "outputs": [],
   "source": [
    "#Selecting fights where at least one of the fighters has a win streak\n",
    "winstreak = (data['B_current_win_streak'] > 0) | (data['R_current_win_streak'] > 0)\n",
    "data = data[winstreak]\n",
    "#Removing fights where both fighter have the same winstreak\n",
    "no_same = data['B_current_win_streak'] != data['R_current_win_streak']\n",
    "data_no = data[no_same]"
   ]
  },
  {
   "cell_type": "markdown",
   "metadata": {},
   "source": [
    "Should we prefer fighter with a better winstreak or not?"
   ]
  },
  {
   "cell_type": "code",
   "execution_count": 6,
   "metadata": {},
   "outputs": [
    {
     "name": "stdout",
     "output_type": "stream",
     "text": [
      "The fighter with a better win streak wins 57.09% of the time.\n"
     ]
    }
   ],
   "source": [
    "better_wins = 0\n",
    "for i in range(len(data_no)):\n",
    "    if (data_no['Winner'].iloc[i] == 'Blue') & (data_no['B_current_win_streak'].iloc[i] > data_no['R_current_win_streak'].iloc[i]):\n",
    "        better_wins += 1\n",
    "    elif (data_no['Winner'].iloc[i] == 'Red') & (data_no['R_current_win_streak'].iloc[i] > data_no['B_current_win_streak'].iloc[i]):\n",
    "        better_wins += 1\n",
    "p = better_wins / len(data_no)\n",
    "print(\"The fighter with a better win streak wins \" + str(round(p * 100, 2)) + \"% of the time.\")"
   ]
  },
  {
   "cell_type": "markdown",
   "metadata": {},
   "source": [
    "This shows us that most of the time it is a better idea to prefer the fighter with a better winstreak."
   ]
  },
  {
   "cell_type": "markdown",
   "metadata": {},
   "source": [
    "Let's see how this statistic differs for different win streak lengths."
   ]
  },
  {
   "cell_type": "code",
   "execution_count": 7,
   "metadata": {},
   "outputs": [
    {
     "name": "stderr",
     "output_type": "stream",
     "text": [
      "<ipython-input-7-fe52bd4c2ba3>:8: UserWarning: Boolean Series key will be reindexed to match DataFrame index.\n",
      "  data_loop = data_no[filterwin]\n"
     ]
    }
   ],
   "source": [
    "results = []\n",
    "for i in range(1, 9, 1):\n",
    "    if i == 8:\n",
    "        filterwin = (data['B_current_win_streak'] >= i) | (data['R_current_win_streak'] >= i)\n",
    "    else:\n",
    "        filterwin = (data['B_current_win_streak'] == i) | (data['R_current_win_streak'] == i)\n",
    "    #Also remove fights where both fighters have the same win streak using the filter that we made before\n",
    "    data_loop = data_no[filterwin]\n",
    "    i_wins = 0\n",
    "    for j in range(len(data_loop)):\n",
    "        if (data_loop['Winner'].iloc[j] == 'Blue') & (data_loop['B_current_win_streak'].iloc[j] == i):\n",
    "            i_wins += 1\n",
    "        elif (data_loop['Winner'].iloc[j] == 'Red') & (data_loop['R_current_win_streak'].iloc[j] == i):\n",
    "            i_wins += 1\n",
    "    results.append(i_wins / len(data_loop))"
   ]
  },
  {
   "cell_type": "code",
   "execution_count": 8,
   "metadata": {},
   "outputs": [
    {
     "name": "stdout",
     "output_type": "stream",
     "text": [
      "Fighter with a win streak of 1 wins 49.32% of the time.\n",
      "Fighter with a win streak of 2 wins 56.88% of the time.\n",
      "Fighter with a win streak of 3 wins 51.31% of the time.\n",
      "Fighter with a win streak of 4 wins 50.88% of the time.\n",
      "Fighter with a win streak of 5 wins 61.54% of the time.\n",
      "Fighter with a win streak of 6 wins 62.12% of the time.\n",
      "Fighter with a win streak of 7 wins 52.94% of the time.\n",
      "Fighter with a win streak of 8 or higher wins 21.31% of the time.\n"
     ]
    }
   ],
   "source": [
    "for i in range(1, len(results) + 1, 1):\n",
    "    if i < len(results):\n",
    "        print(\"Fighter with a win streak of \" + str(i) + \" wins \" + str(round(results[i - 1] * 100, 2)) + \"% of the time.\")\n",
    "    else:\n",
    "        print(\"Fighter with a win streak of 8 or higher wins \" + str(round(results[i - 1] * 100, 2)) + \"% of the time.\")"
   ]
  },
  {
   "cell_type": "markdown",
   "metadata": {},
   "source": [
    "This shows that it is usually a good idea to suppor fighter with a moderate win streak, but not with 1 or higher than 8 as the chances of losing increase. The 8+ category contains win streaks of more than 10 as well and it is only a matter of the time usually when the win streak ends which explains the drop off in the win percentage. Because huge win streaks are rare we had to group them together as having catogories that consist of only 2-3 examples is not good."
   ]
  },
  {
   "cell_type": "markdown",
   "metadata": {},
   "source": [
    "Chart for win probailities for win streaks between 1-7."
   ]
  },
  {
   "cell_type": "code",
   "execution_count": 25,
   "metadata": {},
   "outputs": [
    {
     "data": {
      "image/png": "[encoded data removed]",
      "text/plain": [
       "<Figure size 1080x576 with 1 Axes>"
      ]
     },
     "metadata": {
      "needs_background": "light"
     },
     "output_type": "display_data"
    }
   ],
   "source": [
    "winstreak_length = ['1', '2', '3', '4', '5', '6', '7']\n",
    "results_plot = []\n",
    "for i in range(len(results) - 1):\n",
    "    results_plot.append(round(results[i] * 100, 2))\n",
    "\n",
    "plt.figure(figsize=(15, 8))\n",
    "plt.title('Win probabilities for fighters on different win streaks', fontsize = 16)\n",
    "plt.bar(winstreak_length, results_plot)\n",
    "plt.ylabel('Win probability', fontsize = 16)\n",
    "plt.xlabel('Win streak length', fontsize = 16)\n",
    "plt.yticks(fontsize = 16)\n",
    "plt.xticks(fontsize = 16)\n",
    "plt.ylim([48, 65])\n",
    "plt.axhline(y=50, c='r', linestyle='--')\n",
    "plt.show()"
   ]
  }
 ],
 "metadata": {
  "kernelspec": {
   "display_name": "Python 3",
   "language": "python",
   "name": "python3"
  },
  "language_info": {
   "codemirror_mode": {
    "name": "ipython",
    "version": 3
   },
   "file_extension": ".py",
   "mimetype": "text/x-python",
   "name": "python",
   "nbconvert_exporter": "python",
   "pygments_lexer": "ipython3",
   "version": "3.8.3"
  }
 },
 "nbformat": 4,
 "nbformat_minor": 4
}
