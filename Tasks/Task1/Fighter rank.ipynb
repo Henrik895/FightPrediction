{
 "cells": [
  {
   "cell_type": "markdown",
   "metadata": {},
   "source": [
    "How often does the fighter with a higher rank win?  \n",
    "NB! In each weight class there is a champion and then come fighters ranked from 1 to 15, so the rank 1 is not a champion, but number 1 contender for the championship fight (eventhough sometimes lower ranked fighters (2-6) get the opportunity instead - depends on the circumstances)"
   ]
  },
  {
   "cell_type": "code",
   "execution_count": 1,
   "metadata": {},
   "outputs": [],
   "source": [
    "import pandas as pd"
   ]
  },
  {
   "cell_type": "code",
   "execution_count": 2,
   "metadata": {},
   "outputs": [],
   "source": [
    "data = pd.read_csv('../../data/ufc-master.csv')"
   ]
  },
  {
   "cell_type": "code",
   "execution_count": 3,
   "metadata": {},
   "outputs": [],
   "source": [
    "#Filter out fights where neither of the fighters is a champion or ranked in the top 15 because we can't compare the ranks of the\n",
    "#fightetrs in that case.\n",
    "ranked_only = data['better_rank'] != 'neither'\n",
    "ranked_fights = data[ranked_only][['Winner', 'better_rank']]"
   ]
  },
  {
   "cell_type": "code",
   "execution_count": 4,
   "metadata": {},
   "outputs": [
    {
     "name": "stdout",
     "output_type": "stream",
     "text": [
      "Higher ranked fighters win 60.93% of the time.\n"
     ]
    }
   ],
   "source": [
    "#Percetange of fights, where the higher ranked fighter wins\n",
    "better_wins = 0\n",
    "for i in range(len(ranked_fights)):\n",
    "    if (ranked_fights['Winner'].iloc[i] == 'Blue') & (ranked_fights['better_rank'].iloc[i] == 'Blue'):\n",
    "        better_wins += 1\n",
    "    elif (ranked_fights['Winner'].iloc[i] == 'Red') & (ranked_fights['better_rank'].iloc[i] == 'Red'):\n",
    "        better_wins += 1\n",
    "better_wins_p = better_wins / len(ranked_fights)\n",
    "print(\"Higher ranked fighters win \" + str(round(better_wins_p * 100, 2)) + \"% of the time.\")"
   ]
  },
  {
   "cell_type": "markdown",
   "metadata": {},
   "source": [
    "This shows that the smart move is to pick the higher ranked fighter if we do not know anything else about both fighters. This is not a suprising result and shows that rankings exist for a reason even though they can be quite arbitrary. For example sometimes a really skilled fighter has a low ranking (10-15) because he/she has difficulties finding higher ranked opponents and the best way to climb in the rankings is to beat fighters that are ranked higher than you."
   ]
  },
  {
   "cell_type": "code",
   "execution_count": 5,
   "metadata": {},
   "outputs": [],
   "source": [
    "#TBC - how often does the champion win"
   ]
  }
 ],
 "metadata": {
  "kernelspec": {
   "display_name": "Python 3",
   "language": "python",
   "name": "python3"
  },
  "language_info": {
   "codemirror_mode": {
    "name": "ipython",
    "version": 3
   },
   "file_extension": ".py",
   "mimetype": "text/x-python",
   "name": "python",
   "nbconvert_exporter": "python",
   "pygments_lexer": "ipython3",
   "version": "3.8.3"
  }
 },
 "nbformat": 4,
 "nbformat_minor": 4
}
