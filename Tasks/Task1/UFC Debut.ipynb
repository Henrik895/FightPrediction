{
 "cells": [
  {
   "cell_type": "markdown",
   "metadata": {},
   "source": [
    "How often do fighters making UFC debut win?"
   ]
  },
  {
   "cell_type": "code",
   "execution_count": 1,
   "metadata": {},
   "outputs": [],
   "source": [
    "import pandas as pd"
   ]
  },
  {
   "cell_type": "code",
   "execution_count": 12,
   "metadata": {},
   "outputs": [],
   "source": [
    "data = pd.read_csv('../../data/ufc-master.csv')"
   ]
  },
  {
   "cell_type": "code",
   "execution_count": 13,
   "metadata": {},
   "outputs": [],
   "source": [
    "data = data[['B_fighter', 'R_fighter', 'B_wins', 'B_losses', 'R_wins', 'R_losses', 'Winner']]"
   ]
  },
  {
   "cell_type": "code",
   "execution_count": 15,
   "metadata": {},
   "outputs": [],
   "source": [
    "debut = (data['B_wins'] + data['B_losses'] == 0) | (data['R_wins'] + data['R_losses'] == 0)\n",
    "data = data[debut]\n",
    "#Now excluding fights where both fighters are making a debut\n",
    "noeq = data['B_wins'] + data['B_losses'] != data['R_wins'] + data['R_losses']\n",
    "data = data[noeq]"
   ]
  },
  {
   "cell_type": "code",
   "execution_count": 17,
   "metadata": {},
   "outputs": [
    {
     "name": "stdout",
     "output_type": "stream",
     "text": [
      "The fighter who is making the debut wins 43.37% of the time.\n",
      "Number of fightes where one of the fighters was making a UFC debut: 830\n"
     ]
    }
   ],
   "source": [
    "wins = 0\n",
    "for i in range(len(data)):\n",
    "    if (data['Winner'].iloc[i] == 'Blue') & (data['B_wins'].iloc[i] + data['B_losses'].iloc[i] == 0):\n",
    "        wins += 1\n",
    "    elif (data['Winner'].iloc[i] == 'Red') & (data['R_wins'].iloc[i] + data['R_losses'].iloc[i] == 0):\n",
    "        wins += 1\n",
    "p = wins / len(data)\n",
    "print(\"The fighter who is making the debut wins \" + str(round(p * 100, 2)) + \"% of the time.\")\n",
    "print(\"Number of fightes where one of the fighters was making a UFC debut: \" + str(len(data)))"
   ]
  },
  {
   "cell_type": "markdown",
   "metadata": {},
   "source": [
    "This shows us that it usally better to prefer a fighter who has already fought in the UFC. This is based on 830 fights so there is only a very small chance that this is just a random occurrence."
   ]
  }
 ],
 "metadata": {
  "kernelspec": {
   "display_name": "Python 3",
   "language": "python",
   "name": "python3"
  },
  "language_info": {
   "codemirror_mode": {
    "name": "ipython",
    "version": 3
   },
   "file_extension": ".py",
   "mimetype": "text/x-python",
   "name": "python",
   "nbconvert_exporter": "python",
   "pygments_lexer": "ipython3",
   "version": "3.8.3"
  }
 },
 "nbformat": 4,
 "nbformat_minor": 4
}
