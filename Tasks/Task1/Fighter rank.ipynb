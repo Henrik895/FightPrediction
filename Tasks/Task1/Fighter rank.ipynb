{
 "cells": [
  {
   "cell_type": "markdown",
   "metadata": {},
   "source": [
    "How often does the fighter with a higher rank win?  \n",
    "NB! In each weight class there is a champion and then come fighters ranked from 1 to 15. This means that the fighter who is ranked 1 is not a champion, but number 1 contender for the championship fight (eventhough sometimes lower ranked fighters (2-6) get the opportunity instead - depends on the circumstances)"
   ]
  },
  {
   "cell_type": "code",
   "execution_count": 2,
   "metadata": {},
   "outputs": [],
   "source": [
    "import pandas as pd"
   ]
  },
  {
   "cell_type": "code",
   "execution_count": 3,
   "metadata": {},
   "outputs": [],
   "source": [
    "data = pd.read_csv('../../data/ufc-master.csv')"
   ]
  },
  {
   "cell_type": "code",
   "execution_count": 4,
   "metadata": {},
   "outputs": [],
   "source": [
    "#Filter out fights where neither of the fighters is a champion or ranked in the top 15 because we can't compare the ranks of the\n",
    "#fightetrs in that case.\n",
    "ranked_only = data['better_rank'] != 'neither'\n",
    "ranked_fights = data[ranked_only][['Winner', 'better_rank']]"
   ]
  },
  {
   "cell_type": "code",
   "execution_count": 5,
   "metadata": {},
   "outputs": [
    {
     "name": "stdout",
     "output_type": "stream",
     "text": [
      "Higher ranked fighters win 60.93% of the time.\n"
     ]
    }
   ],
   "source": [
    "#Percetange of fights, where the higher ranked fighter wins\n",
    "better_wins = 0\n",
    "for i in range(len(ranked_fights)):\n",
    "    if (ranked_fights['Winner'].iloc[i] == 'Blue') & (ranked_fights['better_rank'].iloc[i] == 'Blue'):\n",
    "        better_wins += 1\n",
    "    elif (ranked_fights['Winner'].iloc[i] == 'Red') & (ranked_fights['better_rank'].iloc[i] == 'Red'):\n",
    "        better_wins += 1\n",
    "better_wins_p = better_wins / len(ranked_fights)\n",
    "print(\"Higher ranked fighters win \" + str(round(better_wins_p * 100, 2)) + \"% of the time.\")"
   ]
  },
  {
   "cell_type": "markdown",
   "metadata": {},
   "source": [
    "This shows that the smart move is to pick the higher ranked fighter if we do not know anything else about both fighters. This is not a suprising result and shows that rankings exist for a reason even though they can be quite arbitrary. For example sometimes a really skilled fighter has a low ranking (10-15) because he/she has difficulties finding higher ranked opponents and the best way to climb in the rankings is to beat fighters that are ranked higher than you."
   ]
  },
  {
   "cell_type": "markdown",
   "metadata": {},
   "source": [
    "\n",
    "Using conditional probability let's see how often does the better ranked fighter win, when we know that the fight is a title fight. Basically in most of the cases we are asking how successfully champions defend their champion status."
   ]
  },
  {
   "cell_type": "code",
   "execution_count": 15,
   "metadata": {},
   "outputs": [],
   "source": [
    "title_only = (data['title_bout'] == True) & (data['better_rank'] != 'neither')\n",
    "title_fights = data[title_only][['B_fighter', 'R_fighter', 'Winner', 'better_rank']]"
   ]
  },
  {
   "cell_type": "code",
   "execution_count": 16,
   "metadata": {},
   "outputs": [
    {
     "name": "stdout",
     "output_type": "stream",
     "text": [
      "In the title fights the better ranked fighter wins 70.92% of the time.\n"
     ]
    }
   ],
   "source": [
    "better_wins2 = 0\n",
    "for i in range(len(title_fights)):\n",
    "    if (title_fights['Winner'].iloc[i] == 'Red') & (title_fights['better_rank'].iloc[i] == 'Red'):\n",
    "        better_wins2 += 1\n",
    "    elif (title_fights['Winner'].iloc[i] == 'Blue') & (title_fights['better_rank'].iloc[i] == 'Blue'):\n",
    "        better_wins2 += 1\n",
    "better_wins2_p = better_wins2 / len(title_fights)\n",
    "print(\"In the title fights the better ranked fighter wins \" + str(round(better_wins2_p * 100, 2)) + \"% of the time.\")"
   ]
  },
  {
   "cell_type": "markdown",
   "metadata": {},
   "source": [
    "71% win rate is significant, which means that it is usually not a good idea to bet against a standing champion or in the case of vacant title it is usually wiser to pick the higher ranked fighter as the next champion."
   ]
  }
 ],
 "metadata": {
  "kernelspec": {
   "display_name": "Python 3",
   "language": "python",
   "name": "python3"
  },
  "language_info": {
   "codemirror_mode": {
    "name": "ipython",
    "version": 3
   },
   "file_extension": ".py",
   "mimetype": "text/x-python",
   "name": "python",
   "nbconvert_exporter": "python",
   "pygments_lexer": "ipython3",
   "version": "3.8.3"
  }
 },
 "nbformat": 4,
 "nbformat_minor": 4
}
