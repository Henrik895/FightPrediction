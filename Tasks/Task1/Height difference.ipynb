{
 "cells": [
  {
   "cell_type": "markdown",
   "metadata": {},
   "source": [
    "Question: How much does height difference between the fighters impact the fight outcome?"
   ]
  },
  {
   "cell_type": "code",
   "execution_count": 1,
   "metadata": {},
   "outputs": [],
   "source": [
    "import pandas as pd"
   ]
  },
  {
   "cell_type": "code",
   "execution_count": 2,
   "metadata": {},
   "outputs": [],
   "source": [
    "data = pd.read_csv('../../data/ufc-master.csv')"
   ]
  },
  {
   "cell_type": "code",
   "execution_count": 20,
   "metadata": {},
   "outputs": [],
   "source": [
    "no_eq = (data['height_dif'] != 0) & (data['height_dif'] != -187.96)\n",
    "#In addition to equal hights also removed an outlier that was spotted when checking values in height_dif column.\n",
    "data_filtered = data[no_eq][['height_dif', 'Winner']]"
   ]
  },
  {
   "cell_type": "markdown",
   "metadata": {},
   "source": [
    "How often does the taller fighter win?"
   ]
  },
  {
   "cell_type": "code",
   "execution_count": 18,
   "metadata": {},
   "outputs": [
    {
     "name": "stdout",
     "output_type": "stream",
     "text": [
      "Taller fighter wins 51.34% of the time.\n",
      "Sample size (fights where the height of the fighters was different): 3699\n"
     ]
    }
   ],
   "source": [
    "taller_wins = 0\n",
    "for i in range(len(data_filtered)):\n",
    "    #Height difference is calculated as blue fighter - red righter\n",
    "    if (data_filtered['height_dif'].iloc[i] > 0) & (data_filtered['Winner'].iloc[i] == 'Blue'):\n",
    "        taller_wins += 1\n",
    "    elif (data_filtered['height_dif'].iloc[i] < 0) & (data_filtered['Winner'].iloc[i] == 'Red'):\n",
    "        taller_wins += 1\n",
    "taller_win_ratio = taller_wins / len(data_filtered)\n",
    "print(\"Taller fighter wins \" + str(round(taller_win_ratio * 100, 2)) + \"% of the time.\")\n",
    "print(\"Sample size (fights where the height of the fighters was different): \" + str(len(data_filtered)))"
   ]
  },
  {
   "cell_type": "markdown",
   "metadata": {},
   "source": [
    "As we can see taller fighter wins 51.3% of the time, which makes it seem like the height is not a significant factor, but next we are going to how and if the win percetange changes for different height differences."
   ]
  },
  {
   "cell_type": "code",
   "execution_count": 35,
   "metadata": {},
   "outputs": [],
   "source": [
    "data_filtered['height_dif'].value_counts().head(5)\n",
    "results = []\n",
    "sample_sizes = []\n",
    "for i in range(1, 8, 1):\n",
    "    if i == 1:\n",
    "        height_filter = abs(data_filtered['height_dif']) <= 2.54\n",
    "    elif i == 7:\n",
    "        height_filter = abs(data_filtered['height_dif']) > 15.24\n",
    "    else:\n",
    "        height_filter = (abs(data_filtered['height_dif']) > (i - 1) * 2.54) & (abs(data_filtered['height_dif']) <= i * 2.54)\n",
    "    data_height = data_filtered[height_filter]\n",
    "    sample_sizes.append(len(data_height))\n",
    "    taller_wins_2 = 0\n",
    "    for j in range(len(data_height)):\n",
    "        if (data_height['height_dif'].iloc[j] > 0) & (data_height['Winner'].iloc[j] == 'Blue'):\n",
    "            taller_wins_2 += 1\n",
    "        elif (data_height['height_dif'].iloc[j] < 0) & (data_height['Winner'].iloc[j] == 'Red'):\n",
    "            taller_wins_2 += 1\n",
    "    results.append(taller_wins_2 / len(data_height))"
   ]
  },
  {
   "cell_type": "code",
   "execution_count": 36,
   "metadata": {},
   "outputs": [
    {
     "name": "stdout",
     "output_type": "stream",
     "text": [
      "When the height difference is between (0, 2.54] the taller fighter wins 49.89% of the time.\n",
      "Sample size: 1327\n",
      "\n",
      "When the height difference between the fighters is between (2.54, 5.08] the taller fighter wins 51.25% of the time\n",
      "Sample size: 1001\n",
      "\n",
      "When the height difference between the fighters is between (5.08, 7.62] the taller fighter wins 50.98% of the time\n",
      "Sample size: 661\n",
      "\n",
      "When the height difference between the fighters is between (7.62, 10.16] the taller fighter wins 57.38% of the time\n",
      "Sample size: 366\n",
      "\n",
      "When the height difference between the fighters is between (10.16, 12.7] the taller fighter wins 50.98% of the time\n",
      "Sample size: 204\n",
      "\n",
      "When the height difference between the fighters is between (12.7, 15.24] the taller fighter wins 49.41% of the time\n",
      "Sample size: 85\n",
      "\n",
      "When the height difference between the fighters is greater than 15.24 cm the taller fighter wins 56.36% of the time.\n",
      "Sample size: 55\n",
      "\n"
     ]
    }
   ],
   "source": [
    "for i in range(len(results)):\n",
    "    if i == 0:\n",
    "        print(\"When the height difference is between (0, 2.54] the taller fighter wins \" + \n",
    "              str(round(results[i] * 100, 2)) + \"% of the time.\")\n",
    "        print(\"Sample size: \" + str(sample_sizes[i]) + \"\\n\")\n",
    "    elif i == len(results) - 1:\n",
    "        print(\"When the height difference between the fighters is greater than 15.24 cm the taller fighter wins \" +\n",
    "             str(round(results[i] * 100, 2)) + \"% of the time.\")\n",
    "        print(\"Sample size: \" + str(sample_sizes[i]) + \"\\n\")\n",
    "    else:\n",
    "        print(\"When the height difference between the fighters is between (\" + str(i * 2.54) + \", \" +\n",
    "              str((i + 1) * 2.54) + \"] the taller fighter wins \" + str(round(results[i] * 100, 2)) + \"% of the time\")\n",
    "        print(\"Sample size: \" + str(sample_sizes[i]) + \"\\n\")"
   ]
  },
  {
   "cell_type": "markdown",
   "metadata": {},
   "source": [
    "From these results we can see that being a taller fighter improves the chances of winning slighlty, but the benefit is certainly not comparable to the reach difference, where the results were quite one sided."
   ]
  }
 ],
 "metadata": {
  "kernelspec": {
   "display_name": "Python 3",
   "language": "python",
   "name": "python3"
  },
  "language_info": {
   "codemirror_mode": {
    "name": "ipython",
    "version": 3
   },
   "file_extension": ".py",
   "mimetype": "text/x-python",
   "name": "python",
   "nbconvert_exporter": "python",
   "pygments_lexer": "ipython3",
   "version": "3.8.3"
  }
 },
 "nbformat": 4,
 "nbformat_minor": 4
}
