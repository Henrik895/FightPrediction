{
 "cells": [
  {
   "cell_type": "markdown",
   "metadata": {},
   "source": [
    "Before we discovered that usually good wrestlers win slighlty more fights. Now let's see if we can discover something similar for jiu jitsu."
   ]
  },
  {
   "cell_type": "code",
   "execution_count": 6,
   "metadata": {},
   "outputs": [],
   "source": [
    "import pandas as pd"
   ]
  },
  {
   "cell_type": "code",
   "execution_count": 7,
   "metadata": {},
   "outputs": [],
   "source": [
    "data = pd.read_csv('../../data/ufc-master.csv')"
   ]
  },
  {
   "cell_type": "markdown",
   "metadata": {},
   "source": [
    "As with wrestling there is no feature in the data that says explicitly that this person is good at jiu jitsu, but we can use the number of submission victories and submission attempts to make some kinds of estimations about fighters jiu jitsu abilities.\n",
    "First let's use number of submission victories. Because fighters may have participated in a different number of fights we can not simply look at the number of submission victories, but we have to look it as a proportion out of their all victories."
   ]
  },
  {
   "cell_type": "code",
   "execution_count": 8,
   "metadata": {},
   "outputs": [],
   "source": [
    "data = data[['B_fighter', 'R_fighter', 'B_win_by_Submission', 'R_win_by_Submission', 'B_wins', 'R_wins', 'Winner']]"
   ]
  },
  {
   "cell_type": "code",
   "execution_count": 9,
   "metadata": {},
   "outputs": [],
   "source": [
    "#To find out the submission win percentage we need to look fights where both fighters have had at least one fight\n",
    "no_debut = (data['B_wins'] > 0) & (data['R_wins'] > 0)\n",
    "data = data[no_debut]\n",
    "B_subs = (data['B_win_by_Submission']) / (data['B_wins'])\n",
    "R_subs = (data['R_win_by_Submission']) / (data['R_wins'])\n",
    "data['B_subs'] = B_subs\n",
    "data['R_subs'] = R_subs\n",
    "#Now we eliminate fights where both had equal submission percentages\n",
    "noeq = data['B_subs'] != data['R_subs']\n",
    "data = data[noeq]"
   ]
  },
  {
   "cell_type": "code",
   "execution_count": 10,
   "metadata": {},
   "outputs": [
    {
     "name": "stdout",
     "output_type": "stream",
     "text": [
      "Fighter who averages more submission victories than the opponent wins 52.06% of the time.\n",
      "Sample size: 1965\n"
     ]
    }
   ],
   "source": [
    "wins = 0\n",
    "for i in range(len(data)):\n",
    "    if (data['B_subs'].iloc[i] > data['R_subs'].iloc[i]) & (data['Winner'].iloc[i] == 'Blue'):\n",
    "        wins += 1\n",
    "    elif (data['R_subs'].iloc[i] > data['B_subs'].iloc[i]) & (data['Winner'].iloc[i] == 'Red'):\n",
    "        wins += 1\n",
    "p = wins / len(data)\n",
    "print(\"Fighter who averages more submission victories than the opponent wins \" + str(round(p * 100, 2)) + \"% of the time.\")\n",
    "print(\"Sample size: \" + str(len(data)))"
   ]
  },
  {
   "cell_type": "markdown",
   "metadata": {},
   "source": [
    "This is not a huge difference, but still a little bit better than random guess."
   ]
  },
  {
   "cell_type": "markdown",
   "metadata": {},
   "source": [
    "Now lets focus on the average submissions attempted instead of submission victories. If someone averages a lot of submission this usually shows that they are good at jiu jitsu even though they might not be able to finish the fight before the clock runs out."
   ]
  },
  {
   "cell_type": "code",
   "execution_count": 24,
   "metadata": {},
   "outputs": [],
   "source": [
    "data2 = pd.read_csv('../../data/ufc-master.csv')\n",
    "data2 = data2[['B_fighter', 'R_fighter', 'B_avg_SUB_ATT', 'R_avg_SUB_ATT', 'Winner']]\n",
    "hasvalue = (~data2['B_avg_SUB_ATT'].isnull()) & (~data2['R_avg_SUB_ATT'].isnull())\n",
    "data2 = data2[hasvalue]\n",
    "noeq2 = data2['B_avg_SUB_ATT'] != data2['R_avg_SUB_ATT']\n",
    "data2 = data2[noeq2]"
   ]
  },
  {
   "cell_type": "code",
   "execution_count": 26,
   "metadata": {},
   "outputs": [
    {
     "name": "stdout",
     "output_type": "stream",
     "text": [
      "Fighter who averages more submission attempts than the opponent wins 52.71% of the time.\n"
     ]
    }
   ],
   "source": [
    "wins2 = 0\n",
    "for i in range(len(data2)):\n",
    "    if (data2['B_avg_SUB_ATT'].iloc[i] > data2['R_avg_SUB_ATT'].iloc[i]) & (data2['Winner'].iloc[i] == 'Blue'):\n",
    "        wins2 += 1\n",
    "    elif (data2['R_avg_SUB_ATT'].iloc[i] > data2['B_avg_SUB_ATT'].iloc[i]) & (data2['Winner'].iloc[i] == 'Red'):\n",
    "        wins2 += 1\n",
    "p2 = wins2 / len(data2)\n",
    "print(\"Fighter who averages more submission attempts than the opponent wins \" + str(round(p2 * 100, 2)) + \"% of the time.\")"
   ]
  },
  {
   "cell_type": "markdown",
   "metadata": {},
   "source": [
    "This is a slighlty better indicator than the number of submission victories.\n",
    "Now we are going to check the win rate where one of the fighters is in the top 10% of submissions attempted per fight."
   ]
  },
  {
   "cell_type": "code",
   "execution_count": 39,
   "metadata": {},
   "outputs": [
    {
     "name": "stdout",
     "output_type": "stream",
     "text": [
      "1.4\n",
      "1.333333333\n"
     ]
    }
   ],
   "source": [
    "print(data2['B_avg_SUB_ATT'].describe(percentiles=[.9])['90%'])\n",
    "print(data2['R_avg_SUB_ATT'].describe(percentiles=[.9])['90%'])\n",
    "t = data2['B_avg_SUB_ATT'].describe(percentiles=[.9])['90%']\n",
    "threshold = (data2['B_avg_SUB_ATT'] >= t) | (data2['R_avg_SUB_ATT'] >= t)\n",
    "data3 = data2[threshold]"
   ]
  },
  {
   "cell_type": "code",
   "execution_count": 40,
   "metadata": {},
   "outputs": [
    {
     "name": "stdout",
     "output_type": "stream",
     "text": [
      "Fighter who averages more submission attempts than the opponent wins 50.57% of the time.\n"
     ]
    }
   ],
   "source": [
    "wins3 = 0\n",
    "for i in range(len(data3)):\n",
    "    if (data3['B_avg_SUB_ATT'].iloc[i] > data3['R_avg_SUB_ATT'].iloc[i]) & (data3['Winner'].iloc[i] == 'Blue'):\n",
    "        wins3 += 1\n",
    "    elif (data3['R_avg_SUB_ATT'].iloc[i] > data3['B_avg_SUB_ATT'].iloc[i]) & (data3['Winner'].iloc[i] == 'Red'):\n",
    "        wins3 += 1\n",
    "p3 = wins3 / len(data3)\n",
    "print(\"Fighter who averages more submission attempts than the opponent wins \" + str(round(p3 * 100, 2)) + \"% of the time.\")"
   ]
  },
  {
   "cell_type": "markdown",
   "metadata": {},
   "source": [
    "From this we can conclude that the number of submission is not a good indicator of who is going to win, because the win rate dropped instead."
   ]
  }
 ],
 "metadata": {
  "kernelspec": {
   "display_name": "Python 3",
   "language": "python",
   "name": "python3"
  },
  "language_info": {
   "codemirror_mode": {
    "name": "ipython",
    "version": 3
   },
   "file_extension": ".py",
   "mimetype": "text/x-python",
   "name": "python",
   "nbconvert_exporter": "python",
   "pygments_lexer": "ipython3",
   "version": "3.8.3"
  }
 },
 "nbformat": 4,
 "nbformat_minor": 4
}
