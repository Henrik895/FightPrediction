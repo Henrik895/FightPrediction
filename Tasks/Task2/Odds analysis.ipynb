{
 "cells": [
  {
   "cell_type": "code",
   "execution_count": 191,
   "metadata": {},
   "outputs": [],
   "source": [
    "import pandas as pd\n",
    "\n"
   ]
  },
  {
   "cell_type": "markdown",
   "source": [
    "Our dataset also comes with odds from betting sites. These odds are in the american (moneyline) format.\n",
    "\n",
    "For example the odds of +200 (+ is underdog) means that betting 100 dollars and they win, you earn 200 dollars.\n",
    "\n",
    "However odds of -200 means that in order to make 100 dollars in profit you need to bet 200 dollars.\n",
    "\n",
    "\n",
    "\n",
    "\n",
    "We are going to check if the betting sites predictions align with those of our prediction model."
   ],
   "metadata": {
    "collapsed": false
   }
  },
  {
   "cell_type": "code",
   "execution_count": 192,
   "outputs": [],
   "source": [
    "data = pd.read_csv('../../data/ufc-master.csv')\n",
    "\n",
    "data = data[['Winner','R_odds','B_odds','B_fighter', 'R_fighter', 'title_bout', 'B_current_win_streak',\n",
    "        'B_current_lose_streak', 'R_current_win_streak', 'R_current_lose_streak', 'B_Stance', 'R_Stance',\n",
    "        'B_avg_TD_landed', 'R_avg_TD_landed', 'B_wins', 'B_losses', 'R_wins', 'R_losses', 'B_age', 'R_age',\n",
    "        'height_dif', 'reach_dif', 'better_rank', 'gender']]\n"
   ],
   "metadata": {
    "collapsed": false,
    "pycharm": {
     "name": "#%%\n"
    }
   }
  },
  {
   "cell_type": "code",
   "execution_count": 193,
   "metadata": {},
   "outputs": [],
   "source": [
    "#In the blue fighter stance column we have to fix one data point, where 'Switch' is written as 'Switch ' with an extra space\n",
    "#in the end\n",
    "data['B_Stance'] = data['B_Stance'].replace({'Switch ': 'Switch'})\n",
    "\n",
    "#In the height dif there is one outlier where the difference between the two fighters is 187.96 cm, which is obviously a mistake.\n",
    "#Instead of excluding this datapoint I am going to fix this manually using the height data available for both fighters on the\n",
    "#UFC website (the fighters were Parker Porter and Kyle Daukaus)\n",
    "data['height_dif'] = data['height_dif'].replace({-187.96: -7.62})\n",
    "data['height_dif'].value_counts()\n",
    "\n",
    "#In the reach difference we have 2 mistakes, where one of the values is -187.96 and the other is -160.02. These mistakes will be\n",
    "#fixed as well.\n",
    "#In the first case the fighters involved are Jinh Yu Frey and Kay Hanse\n",
    "#In the second case the fighters involved are Parker Porter vs Kyle Daukaus and Irwin Rivera vs Giga Chikadze\n",
    "filter1 = (data['reach_dif'] == -187.96) & (data['B_fighter'] == 'Parker Porter')\n",
    "filter2 = (data['reach_dif'] == -187.96) & (data['B_fighter'] == 'Irwin Rivera')\n",
    "filter3 = data['reach_dif'] == -160.02\n",
    "data[filter1] = data[filter1].replace({-187.96: -2.54})\n",
    "data[filter2] = data[filter2].replace({-187.96: -17.78 })\n",
    "data[filter3] = data[filter3].replace({-160.02: 5.08})"
   ]
  },
  {
   "cell_type": "code",
   "execution_count": 194,
   "metadata": {},
   "outputs": [],
   "source": [
    "data['B_avg_TD_landed'].fillna(0, inplace=True)\n",
    "data['R_avg_TD_landed'].fillna(0, inplace=True)"
   ]
  },
  {
   "cell_type": "code",
   "execution_count": 195,
   "metadata": {},
   "outputs": [],
   "source": [
    "#Now we will use columns wins and losses for both fighters to create a column that has a win ratio out of all wins and losses\n",
    "B_ratio = data['B_wins'] / (data['B_wins'] + data['B_losses'])\n",
    "R_ratio = data['R_wins'] / (data['R_wins'] + data['R_losses'])\n",
    "data['B_wr'] = B_ratio\n",
    "data['R_wr'] = R_ratio\n",
    "#It is possible that in some of the rows that value is now NaN as the fighter has never fought before. In task 1 we found out\n",
    "#that the fighters making debut usually win 43% of the time so we will replace NaN with 0.43 as giving them 0 would not\n",
    "#represent reality very well\n",
    "data['B_wr'].fillna(0.43, inplace=True)\n",
    "data['R_wr'].fillna(0.43, inplace=True)\n",
    "#Now we will drop win and loss columns for both fighters because we have added the winrate column\n",
    "data = data.drop(columns=['B_wins', 'B_losses', 'R_wins', 'R_losses'])\n",
    "\n",
    "#Now changing categorical variables into 1s and 0s where necessary\n",
    "data['title_bout'] = (data['title_bout']).astype(int)\n",
    "data['Winner'] = data['Winner'].map(dict(Blue=0, Red=1))\n",
    "data['gender'] = data['gender'].map(dict(MALE=1, FEMALE=0))\n",
    "data = pd.get_dummies(data, columns=['B_Stance', 'R_Stance', 'better_rank'])"
   ]
  },
  {
   "cell_type": "code",
   "execution_count": 196,
   "metadata": {},
   "outputs": [],
   "source": [
    "#Dropping fighters names as well because this whole prediction is based on the stats only\n",
    "data = data.drop(columns=['B_fighter', 'R_fighter'])"
   ]
  },
  {
   "cell_type": "code",
   "execution_count": 197,
   "outputs": [],
   "source": [
    "#Creating training and validation sets\n",
    "from sklearn.model_selection import train_test_split\n",
    "X_train, X_test, y_train, y_test = train_test_split(data, data['Winner'], test_size = 0.15, random_state = 0)\n",
    "\n",
    "#Removing betting odds from dataset, but saving them to a different dataframe for easy comparison.\n",
    "X_train = X_train.drop(columns=['R_odds','B_odds', 'Winner'])\n",
    "X_with_odds = X_test.copy()\n",
    "X_test = X_test.drop(columns=['R_odds','B_odds', 'Winner'])"
   ],
   "metadata": {
    "collapsed": false,
    "pycharm": {
     "name": "#%%\n"
    }
   }
  },
  {
   "cell_type": "code",
   "execution_count": 198,
   "outputs": [
    {
     "name": "stdout",
     "output_type": "stream",
     "text": [
      "0.5827123695976155\n"
     ]
    }
   ],
   "source": [
    "#First we are going to use the KNN algorithm that we found earlier and see if it does better with more features or if we have\n",
    "#to think about changing the algorithm\n",
    "from sklearn.neighbors import KNeighborsClassifier\n",
    "from sklearn.metrics import accuracy_score\n",
    "knn = KNeighborsClassifier(n_neighbors = 109, p=2)\n",
    "knn.fit(X_train, y_train)\n",
    "predictions = knn.predict(X_test)\n",
    "acc = accuracy_score(y_test, predictions)\n",
    "print(acc)"
   ],
   "metadata": {
    "collapsed": false,
    "pycharm": {
     "name": "#%%\n"
    }
   }
  },
  {
   "cell_type": "code",
   "execution_count": 199,
   "outputs": [],
   "source": [
    "#Merging the results so model prediction is easlily comparable to the actual winner and odds.\n",
    "y_pred_df = pd.DataFrame(data = predictions, columns = ['prediction'], index = X_test.index.copy())\n",
    "df_out = pd.merge(y_pred_df,X_with_odds, how = 'left', left_index = True, right_index = True)"
   ],
   "metadata": {
    "collapsed": false,
    "pycharm": {
     "name": "#%%\n"
    }
   }
  },
  {
   "cell_type": "code",
   "execution_count": 200,
   "outputs": [
    {
     "data": {
      "text/plain": "0.5827123695976155"
     },
     "execution_count": 200,
     "metadata": {},
     "output_type": "execute_result"
    }
   ],
   "source": [
    "#Test to see if everything is correct. this result should be exactly the same as accuracy_score.\n",
    "correct = df_out[df_out['Winner'] == df_out['prediction']]\n",
    "len(correct)/len(df_out)\n"
   ],
   "metadata": {
    "collapsed": false,
    "pycharm": {
     "name": "#%%\n"
    }
   }
  },
  {
   "cell_type": "code",
   "source": [
    "clean = df_out[['prediction', 'Winner', 'R_odds', 'B_odds']]\n",
    "clean.insert(2, \"Higher_odds\", (clean['R_odds'] < clean['B_odds']))\n",
    "clean[\"Higher_odds\"] = clean[\"Higher_odds\"].astype(int)\n"
   ],
   "metadata": {
    "collapsed": false,
    "pycharm": {
     "name": "#%%\n"
    }
   },
   "execution_count": 201,
   "outputs": [
    {
     "name": "stderr",
     "output_type": "stream",
     "text": [
      "<ipython-input-201-bdc96b22a2ba>:3: SettingWithCopyWarning: \n",
      "A value is trying to be set on a copy of a slice from a DataFrame.\n",
      "Try using .loc[row_indexer,col_indexer] = value instead\n",
      "\n",
      "See the caveats in the documentation: https://pandas.pydata.org/pandas-docs/stable/user_guide/indexing.html#returning-a-view-versus-a-copy\n",
      "  clean[\"Higher_odds\"] = clean[\"Higher_odds\"].astype(int)\n"
     ]
    }
   ]
  },
  {
   "cell_type": "markdown",
   "source": [
    "Now we check how many times the actual winner had higher odds, this is being done on the test dataset\n",
    "but because it was chosen randomly that is not an issue."
   ],
   "metadata": {
    "collapsed": false
   }
  },
  {
   "cell_type": "code",
   "execution_count": 202,
   "outputs": [
    {
     "data": {
      "text/plain": "0.639344262295082"
     },
     "execution_count": 202,
     "metadata": {},
     "output_type": "execute_result"
    }
   ],
   "source": [
    "len(clean[clean['Winner'] == clean['Higher_odds']])/len(clean)"
   ],
   "metadata": {
    "collapsed": false,
    "pycharm": {
     "name": "#%%\n"
    }
   }
  },
  {
   "cell_type": "markdown",
   "source": [
    "Surprisingly in only 63.9% of cases the fighter with the higher odds won the match. This is more accurate than our KNN model,\n",
    "but if our model consistently predicts lower odds fighters to win and they actually win, our model will be better for earning money.\n",
    "\n",
    "\n",
    "Now we check whether our model predicted differently from the betting houses."
   ],
   "metadata": {
    "collapsed": false,
    "pycharm": {
     "name": "#%% md\n"
    }
   }
  },
  {
   "cell_type": "code",
   "execution_count": 203,
   "outputs": [
    {
     "name": "stdout",
     "output_type": "stream",
     "text": [
      "0.6274217585692996\n",
      "0.15797317436661698\n"
     ]
    },
    {
     "name": "stderr",
     "output_type": "stream",
     "text": [
      "<ipython-input-203-fc72a7c1f33f>:7: UserWarning: Boolean Series key will be reindexed to match DataFrame index.\n",
      "  diff_result = diff_result[clean['prediction'] == clean['Winner']]\n"
     ]
    }
   ],
   "source": [
    "same_result = len(clean[clean['prediction'] == clean['Higher_odds']])/len(clean)\n",
    "print(same_result)\n",
    "\n",
    "#Filtering out results with the same prediciton (where we predicted the underdog to win, but betting sites did not)\n",
    "diff_result = clean[clean['prediction'] != clean['Higher_odds']]\n",
    "#We also remove results where our prediciton wasnt correct\n",
    "diff_result = diff_result[clean['prediction'] == clean['Winner']]\n",
    "underdog = len(diff_result)/len(clean)\n",
    "print(underdog)\n",
    "\n"
   ],
   "metadata": {
    "collapsed": false,
    "pycharm": {
     "name": "#%%\n"
    }
   }
  },
  {
   "cell_type": "markdown",
   "source": [
    "We find that in 62.7% of cases our model predicted the same result.\n",
    "\n",
    "We also found out that in 15.7% of total cases our model predicted differently from the betting sites and was correct in doing so.\n",
    "\n",
    "This result might have great implications to betting payout since you earn significantly more money when you bet on the underdog and they win.\n",
    "\n"
   ],
   "metadata": {
    "collapsed": false,
    "pycharm": {
     "name": "#%% md\n"
    }
   }
  }
 ],
 "metadata": {
  "kernelspec": {
   "display_name": "Python 3",
   "language": "python",
   "name": "python3"
  },
  "language_info": {
   "codemirror_mode": {
    "name": "ipython",
    "version": 3
   },
   "file_extension": ".py",
   "mimetype": "text/x-python",
   "name": "python",
   "nbconvert_exporter": "python",
   "pygments_lexer": "ipython3",
   "version": "3.8.3"
  }
 },
 "nbformat": 4,
 "nbformat_minor": 4
}