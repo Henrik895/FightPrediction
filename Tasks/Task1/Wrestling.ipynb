{
 "cells": [
  {
   "cell_type": "markdown",
   "metadata": {},
   "source": [
    "MMA currently has and has had champions who are strong wrestlers and many MMA analysts have said that wrestling is the best base for MMA as it is a skill that is relatively hard to learn compared to striking later on (when you want to achieve high level)."
   ]
  },
  {
   "cell_type": "code",
   "execution_count": 17,
   "metadata": {},
   "outputs": [],
   "source": [
    "import pandas as pd"
   ]
  },
  {
   "cell_type": "markdown",
   "metadata": {},
   "source": [
    "There isn't a feature in the data set that tells us who is a wrestler and who is not so our best option in this case is to look\n",
    "the fighters average takedowns attempted statistic and assume that fighters who want to take the fight to the ground usually do it because they prefer to fight there or they feel that they have an advantage in that case. Takedown success percentage is not that important because in this case intent is more important."
   ]
  },
  {
   "cell_type": "code",
   "execution_count": 4,
   "metadata": {},
   "outputs": [],
   "source": [
    "data = pd.read_csv('../../data/ufc-master.csv')\n",
    "data = data[['B_fighter', 'R_fighter', 'B_avg_TD_landed', 'R_avg_TD_landed', 'Winner']]"
   ]
  },
  {
   "cell_type": "code",
   "execution_count": 23,
   "metadata": {},
   "outputs": [],
   "source": [
    "#Now we have to remove data points where the both fighters have the same values or one of them has NaN\n",
    "nan = (~data['B_avg_TD_landed'].isnull()) & (~data['R_avg_TD_landed'].isnull())\n",
    "data = data[nan]\n",
    "no_equal = data['B_avg_TD_landed'] != data['R_avg_TD_landed']\n",
    "data = data[no_equal]"
   ]
  },
  {
   "cell_type": "code",
   "execution_count": 24,
   "metadata": {},
   "outputs": [
    {
     "name": "stdout",
     "output_type": "stream",
     "text": [
      "The fighter who has higher career takedown statistic wins 53.49% of the time.\n"
     ]
    }
   ],
   "source": [
    "w_win = 0\n",
    "for i in range(len(data)):\n",
    "    if (data['Winner'].iloc[i] == 'Blue') & (data['B_avg_TD_landed'].iloc[i] > data['R_avg_TD_landed'].iloc[i]):\n",
    "        w_win += 1\n",
    "    elif (data['Winner'].iloc[i] == 'Red') & (data['R_avg_TD_landed'].iloc[i] > data['B_avg_TD_landed'].iloc[i]):\n",
    "        w_win += 1\n",
    "p = w_win / len(data)\n",
    "print(\"The fighter who has higher career takedown statistic wins \" + str(round(p * 100, 2)) + \"% of the time.\")"
   ]
  },
  {
   "cell_type": "markdown",
   "metadata": {},
   "source": [
    "This only shows that a fighter who averages more takedowns usually only has a slight advantage. Of course most of the time the number of average takedowns might be so low that actually neither of the fighters is a wrestler."
   ]
  },
  {
   "cell_type": "code",
   "execution_count": 61,
   "metadata": {},
   "outputs": [
    {
     "name": "stdout",
     "output_type": "stream",
     "text": [
      "1.9090909090000001\n",
      "2.0\n"
     ]
    }
   ],
   "source": [
    "#Let's look fights where at least one of the fighters averages more takedowns that 75% of the other fighters. In this case\n",
    "#we can assume that he/she is actually a strong wrestler\n",
    "print(data['B_avg_TD_landed'].describe()['75%'])\n",
    "print(data['R_avg_TD_landed'].describe()['75%'])\n",
    "t = data['B_avg_TD_landed'].describe()['75%']\n",
    "#Because B_avg_TD_landed is a little bit lower let's take this for a threshold\n",
    "threshold = (data['B_avg_TD_landed'] >= t) | (data['R_avg_TD_landed'] >= t)\n",
    "data_t = data[threshold]"
   ]
  },
  {
   "cell_type": "code",
   "execution_count": 62,
   "metadata": {},
   "outputs": [
    {
     "name": "stdout",
     "output_type": "stream",
     "text": [
      "The fighter who has higher career takedown statistic wins 55.53% of the time.\n"
     ]
    }
   ],
   "source": [
    "w_win2 = 0\n",
    "for i in range(len(data_t)):\n",
    "    if (data_t['Winner'].iloc[i] == 'Blue') & (data_t['B_avg_TD_landed'].iloc[i] > data_t['R_avg_TD_landed'].iloc[i]):\n",
    "        w_win2 += 1\n",
    "    elif (data_t['Winner'].iloc[i] == 'Red') & (data_t['R_avg_TD_landed'].iloc[i] > data_t['B_avg_TD_landed'].iloc[i]):\n",
    "        w_win2 += 1\n",
    "p2 = w_win2 / len(data_t)\n",
    "print(\"The fighter who has higher career takedown statistic wins \" + str(round(p2 * 100, 2)) + \"% of the time.\")"
   ]
  },
  {
   "cell_type": "markdown",
   "metadata": {},
   "source": [
    "This gave us slightly better results. There may be some kind of a correlation between winning fights and wrestling ability.\n",
    "For the last part let's look cases where one of the fighters averages more takedowns that 90% of other fighters."
   ]
  },
  {
   "cell_type": "code",
   "execution_count": 63,
   "metadata": {},
   "outputs": [
    {
     "name": "stdout",
     "output_type": "stream",
     "text": [
      "3.0\n",
      "3.0\n"
     ]
    }
   ],
   "source": [
    "print(data['B_avg_TD_landed'].describe(percentiles=[.90])['90%'])\n",
    "print(data['R_avg_TD_landed'].describe(percentiles=[.90])['90%'])\n",
    "t2 = data['B_avg_TD_landed'].describe(percentiles=[.90])['90%']\n",
    "threshold2 = (data['B_avg_TD_landed'] >= t2) | (data['R_avg_TD_landed'] >= t2)\n",
    "data_t2 = data[threshold2]"
   ]
  },
  {
   "cell_type": "code",
   "execution_count": 65,
   "metadata": {},
   "outputs": [
    {
     "name": "stdout",
     "output_type": "stream",
     "text": [
      "The fighter who has higher career takedown statistic wins 55.96% of the time.\n"
     ]
    }
   ],
   "source": [
    "w_win3 = 0\n",
    "for i in range(len(data_t2)):\n",
    "    if (data_t2['Winner'].iloc[i] == 'Blue') & (data_t2['B_avg_TD_landed'].iloc[i] > data_t2['R_avg_TD_landed'].iloc[i]):\n",
    "        w_win3 += 1\n",
    "    elif (data_t2['Winner'].iloc[i] == 'Red') & (data_t2['R_avg_TD_landed'].iloc[i] > data_t2['B_avg_TD_landed'].iloc[i]):\n",
    "        w_win3 += 1\n",
    "p3 = w_win3 / len(data_t2)\n",
    "print(\"The fighter who has higher career takedown statistic wins \" + str(round(p3 * 100, 2)) + \"% of the time.\")"
   ]
  },
  {
   "cell_type": "markdown",
   "metadata": {},
   "source": [
    "Again only a very slight improvement."
   ]
  }
 ],
 "metadata": {
  "kernelspec": {
   "display_name": "Python 3",
   "language": "python",
   "name": "python3"
  },
  "language_info": {
   "codemirror_mode": {
    "name": "ipython",
    "version": 3
   },
   "file_extension": ".py",
   "mimetype": "text/x-python",
   "name": "python",
   "nbconvert_exporter": "python",
   "pygments_lexer": "ipython3",
   "version": "3.8.3"
  }
 },
 "nbformat": 4,
 "nbformat_minor": 4
}
