{
 "cells": [
  {
   "cell_type": "markdown",
   "metadata": {},
   "source": [
    "Quick look into fighter stances. Does it matter or not?"
   ]
  },
  {
   "cell_type": "code",
   "execution_count": 1,
   "metadata": {},
   "outputs": [],
   "source": [
    "import pandas as pd"
   ]
  },
  {
   "cell_type": "code",
   "execution_count": 2,
   "metadata": {},
   "outputs": [],
   "source": [
    "data = pd.read_csv('../../data/ufc-master.csv')"
   ]
  },
  {
   "cell_type": "code",
   "execution_count": 12,
   "metadata": {},
   "outputs": [
    {
     "name": "stdout",
     "output_type": "stream",
     "text": [
      "1673\n"
     ]
    }
   ],
   "source": [
    "different_stance = data['B_Stance'] != data['R_Stance']\n",
    "#Looking fights where stances are different\n",
    "data_filtered = data[different_stance][['B_Stance', 'R_Stance', 'Winner']]\n",
    "print(len(data_filtered))"
   ]
  },
  {
   "cell_type": "markdown",
   "metadata": {},
   "source": [
    "We have 1673 fights where fighters used different stances. Now we have to check how many times fighter with an orthodox stance won and how many times fighter with an southpaw stance to determine if there is any difference."
   ]
  },
  {
   "cell_type": "code",
   "execution_count": 16,
   "metadata": {},
   "outputs": [],
   "source": [
    "#Because we have only 2 options and we know the number of fights where fighters had different stances we only have to find out\n",
    "#number of wins for one stance and we can get the other one by subtraction\n",
    "orthodox_wins = 0\n",
    "for i in range(len(data_filtered)):\n",
    "    if (data_filtered['B_Stance'].iloc[i] == 'Orthodox') & (data_filtered['Winner'].iloc[i] == 'Blue'):\n",
    "        orthodox_wins += 1\n",
    "    elif (data_filtered['R_Stance'].iloc[i] == 'Orthodox') & (data_filtered['Winner'].iloc[i] == 'Red'):\n",
    "        orthodox_wins += 1\n",
    "southpaw_wins = len(data_filtered) - orthodox_wins"
   ]
  },
  {
   "cell_type": "code",
   "execution_count": 23,
   "metadata": {},
   "outputs": [
    {
     "name": "stdout",
     "output_type": "stream",
     "text": [
      "When both fighters used different stances fighter with an orthodox stance (right handed) won: 767/1673 fights (45.85%).\n",
      "When both fighters used different stances fighter with an southpaw stance (left handed) won: 906/1673 fights (54.15%).\n"
     ]
    }
   ],
   "source": [
    "print(\"When both fighters used different stances fighter with an orthodox stance (right handed) won: \" +\n",
    "     str(orthodox_wins) + \"/\" + str(len(data_filtered)) + \" fights (\" +\n",
    "      str(round((orthodox_wins / len(data_filtered)) * 100, 2)) + \"%).\")\n",
    "print(\"When both fighters used different stances fighter with an southpaw stance (left handed) won: \" +\n",
    "     str(southpaw_wins) + \"/\" + str(len(data_filtered)) + \" fights (\" +\n",
    "      str(round((southpaw_wins / len(data_filtered)) * 100, 2)) + \"%).\")"
   ]
  },
  {
   "cell_type": "markdown",
   "metadata": {},
   "source": [
    "This is an interesting result. As we can see when both fighters use different stances more often than not it is better to prefer fighter who uses a southpaw stance instead of a fighter who uses orthodox stance. The sample size was 1673, which tells us that this is certainly not random either and there is certainly some kind of correlation.\n",
    "One of the reasons why this might be the case is that most of the population is right handed and because of this most of the time fighters are fighting against other right handed fighters. This means that left handed fighters are probably used to fighting agaisnt right hinded fighters, but right handed fighters do not get to fight against left handed fighters that often so the situation is less familiar for them."
   ]
  }
 ],
 "metadata": {
  "kernelspec": {
   "display_name": "Python 3",
   "language": "python",
   "name": "python3"
  },
  "language_info": {
   "codemirror_mode": {
    "name": "ipython",
    "version": 3
   },
   "file_extension": ".py",
   "mimetype": "text/x-python",
   "name": "python",
   "nbconvert_exporter": "python",
   "pygments_lexer": "ipython3",
   "version": "3.8.3"
  }
 },
 "nbformat": 4,
 "nbformat_minor": 4
}
