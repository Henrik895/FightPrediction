{
 "cells": [
  {
   "cell_type": "markdown",
   "metadata": {},
   "source": [
    "Previously we found that using a KNN algorithm on a relatively small number of features we were able to achieve a little better than 58% percentage accuracy on the validation dataset (15% of the whole dataset), which is not an impressive result, but it shows us that even though every fight can be won with just one punch it is indeed possible to predict fight outcomes. Now we expand the list of features that we are using for predictions and try to see if we can get better results with the KNN algorithm that we used previously (for example at least 63-65% accuracy) or if we have to change the algorithm instead. It is also important to keep in mind that as we do not use the validation set to train the algorithm the end result should be a little better because in the end, after choosing the final algorithm and parameter settings, we will obviously train the model on the entire dataset and only then we will use it to predict fights on the test set (fights that have happened since our project dataset was last updated or in the case of UFC 256 (12th December) haven't even happened yet)."
   ]
  },
  {
   "cell_type": "code",
   "execution_count": 1,
   "metadata": {},
   "outputs": [],
   "source": [
    "import pandas as pd"
   ]
  },
  {
   "cell_type": "code",
   "execution_count": 2,
   "metadata": {},
   "outputs": [],
   "source": [
    "data = pd.read_csv('../../data/ufc-master.csv')[['B_fighter', 'R_fighter', 'title_bout', 'B_current_win_streak', \n",
    "        'B_current_lose_streak', 'R_current_win_streak', 'R_current_lose_streak', 'B_Stance', 'R_Stance', \n",
    "        'B_avg_TD_landed', 'R_avg_TD_landed', 'B_wins', 'B_losses', 'R_wins', 'R_losses', 'B_age', 'R_age',\n",
    "        'height_dif', 'reach_dif', 'better_rank', 'gender', 'Winner']]\n",
    "pd.set_option('display.max_columns', 50)\n",
    "pd.set_option('display.max_rows', 100)"
   ]
  },
  {
   "cell_type": "markdown",
   "metadata": {},
   "source": [
    "First part of the data preparation is the same as before"
   ]
  },
  {
   "cell_type": "code",
   "execution_count": 3,
   "metadata": {},
   "outputs": [],
   "source": [
    "#In the blue fighter stance column we have to fix one data point, where 'Switch' is written as 'Switch ' with an extra space\n",
    "#in the end\n",
    "data['B_Stance'] = data['B_Stance'].replace({'Switch ': 'Switch'})\n",
    "\n",
    "#In the height dif there is one outlier where the difference between the two fighters is 187.96 cm, which is obviously a mistake.\n",
    "#Instead of excluding this datapoint I am going to fix this manually using the height data available for both fighters on the\n",
    "#UFC website (the fighters were Parker Porter and Kyle Daukaus)\n",
    "data['height_dif'] = data['height_dif'].replace({-187.96: -7.62})\n",
    "data['height_dif'].value_counts()\n",
    "\n",
    "#In the reach difference we have 2 mistakes, where one of the values is -187.96 and the other is -160.02. These mistakes will be\n",
    "#fixed as well.\n",
    "#In the first case the fighters involved are Jinh Yu Frey and Kay Hanse\n",
    "#In the second case the fighters involved are Parker Porter vs Kyle Daukaus and Irwin Rivera vs Giga Chikadze\n",
    "filter1 = (data['reach_dif'] == -187.96) & (data['B_fighter'] == 'Parker Porter')\n",
    "filter2 = (data['reach_dif'] == -187.96) & (data['B_fighter'] == 'Irwin Rivera')\n",
    "filter3 = data['reach_dif'] == -160.02\n",
    "data[filter1] = data[filter1].replace({-187.96: -2.54})\n",
    "data[filter2] = data[filter2].replace({-187.96: -17.78 })\n",
    "data[filter3] = data[filter3].replace({-160.02: 5.08})"
   ]
  },
  {
   "cell_type": "markdown",
   "metadata": {},
   "source": [
    "We have now included features that have NaN values (average takedowns landed) for some fighters so we will replace them with 0s."
   ]
  },
  {
   "cell_type": "code",
   "execution_count": 4,
   "metadata": {
    "scrolled": true
   },
   "outputs": [],
   "source": [
    "data['B_avg_TD_landed'].fillna(0, inplace=True)\n",
    "data['R_avg_TD_landed'].fillna(0, inplace=True)"
   ]
  },
  {
   "cell_type": "code",
   "execution_count": 5,
   "metadata": {},
   "outputs": [],
   "source": [
    "#Now we will use columns wins and losses for both fighters to create a column that has a win ratio out of all wins and losses\n",
    "B_ratio = data['B_wins'] / (data['B_wins'] + data['B_losses'])\n",
    "R_ratio = data['R_wins'] / (data['R_wins'] + data['R_losses'])\n",
    "data['B_wr'] = B_ratio\n",
    "data['R_wr'] = R_ratio\n",
    "#It is possible that in some of the rows that value is now NaN as the fighter has never fought before. In task 1 we found out\n",
    "#that the fighters making debut usually win 43% of the time so we will replace NaN with 0.43 as giving them 0 would not \n",
    "#represent reality very well\n",
    "data['B_wr'].fillna(0.43, inplace=True)\n",
    "data['R_wr'].fillna(0.43, inplace=True)\n",
    "#Now we will drop win and loss columns for both fighters because we have added the winrate column\n",
    "data = data.drop(columns=['B_wins', 'B_losses', 'R_wins', 'R_losses'])\n",
    "\n",
    "#Now changing categorical variables into 1s and 0s where necessary\n",
    "data['title_bout'] = (data['title_bout']).astype(int)\n",
    "data['Winner'] = data['Winner'].map(dict(Blue=1, Red=0))\n",
    "data['gender'] = data['gender'].map(dict(MALE=1, FEMALE=0))\n",
    "data = pd.get_dummies(data, columns=['B_Stance', 'R_Stance', 'better_rank'])"
   ]
  },
  {
   "cell_type": "code",
   "execution_count": 6,
   "metadata": {},
   "outputs": [],
   "source": [
    "#Dropping fighters names as well because this whole prediction is based on the stats only\n",
    "data = data.drop(columns=['B_fighter', 'R_fighter'])"
   ]
  },
  {
   "cell_type": "code",
   "execution_count": 7,
   "metadata": {},
   "outputs": [],
   "source": [
    "#Creating training and validation sets\n",
    "from sklearn.model_selection import train_test_split\n",
    "X_train, X_val, y_train, y_val = train_test_split(data.drop(columns='Winner'), data['Winner'], test_size = 0.15, random_state = 0)"
   ]
  },
  {
   "cell_type": "code",
   "execution_count": 8,
   "metadata": {},
   "outputs": [
    {
     "name": "stdout",
     "output_type": "stream",
     "text": [
      "0.5827123695976155\n"
     ]
    }
   ],
   "source": [
    "#First we are going to use the KNN algorithm that we found earlier and see if it does better with more features or if we have\n",
    "#to think about changing the algorithm\n",
    "from sklearn.neighbors import KNeighborsClassifier\n",
    "from sklearn.metrics import accuracy_score\n",
    "knn = KNeighborsClassifier(n_neighbors = 109)\n",
    "knn.fit(X_train, y_train)\n",
    "acc = accuracy_score(y_val, knn.predict(X_val))\n",
    "print(acc)"
   ]
  },
  {
   "cell_type": "markdown",
   "metadata": {},
   "source": [
    "The result is basically same as before so we have to change parameter values or change the algorithm."
   ]
  },
  {
   "cell_type": "markdown",
   "metadata": {},
   "source": [
    "Testing again with a random forest classifier"
   ]
  },
  {
   "cell_type": "code",
   "execution_count": 9,
   "metadata": {},
   "outputs": [
    {
     "name": "stdout",
     "output_type": "stream",
     "text": [
      "0.5543964232488823\n"
     ]
    }
   ],
   "source": [
    "from sklearn.ensemble import RandomForestClassifier\n",
    "forest_1 = RandomForestClassifier(n_estimators = 100, random_state=0)\n",
    "forest_1.fit(X_train, y_train)\n",
    "accuracy_2 = accuracy_score(y_val, forest_1.predict(X_val))\n",
    "print(accuracy_2)"
   ]
  },
  {
   "cell_type": "markdown",
   "metadata": {},
   "source": [
    "The result is now better than before during the first try, but still not better than KNN algorithm. The problem might be with the prepared dataset that we use for the predictions. We should not use features like average takedowns landed by each fighter, but the difference between them two for example and for ages as well like we did in task 1."
   ]
  },
  {
   "cell_type": "code",
   "execution_count": 11,
   "metadata": {},
   "outputs": [
    {
     "data": {
      "text/html": [
       "<div>\n",
       "<style scoped>\n",
       "    .dataframe tbody tr th:only-of-type {\n",
       "        vertical-align: middle;\n",
       "    }\n",
       "\n",
       "    .dataframe tbody tr th {\n",
       "        vertical-align: top;\n",
       "    }\n",
       "\n",
       "    .dataframe thead th {\n",
       "        text-align: right;\n",
       "    }\n",
       "</style>\n",
       "<table border=\"1\" class=\"dataframe\">\n",
       "  <thead>\n",
       "    <tr style=\"text-align: right;\">\n",
       "      <th></th>\n",
       "      <th>title_bout</th>\n",
       "      <th>B_current_win_streak</th>\n",
       "      <th>B_current_lose_streak</th>\n",
       "      <th>R_current_win_streak</th>\n",
       "      <th>R_current_lose_streak</th>\n",
       "      <th>B_avg_TD_landed</th>\n",
       "      <th>R_avg_TD_landed</th>\n",
       "      <th>B_age</th>\n",
       "      <th>R_age</th>\n",
       "      <th>height_dif</th>\n",
       "      <th>reach_dif</th>\n",
       "      <th>gender</th>\n",
       "      <th>Winner</th>\n",
       "      <th>B_wr</th>\n",
       "      <th>R_wr</th>\n",
       "      <th>B_Stance_Open Stance</th>\n",
       "      <th>B_Stance_Orthodox</th>\n",
       "      <th>B_Stance_Southpaw</th>\n",
       "      <th>B_Stance_Switch</th>\n",
       "      <th>R_Stance_Open Stance</th>\n",
       "      <th>R_Stance_Orthodox</th>\n",
       "      <th>R_Stance_Southpaw</th>\n",
       "      <th>R_Stance_Switch</th>\n",
       "      <th>better_rank_Blue</th>\n",
       "      <th>better_rank_Red</th>\n",
       "      <th>better_rank_neither</th>\n",
       "    </tr>\n",
       "  </thead>\n",
       "  <tbody>\n",
       "    <tr>\n",
       "      <th>0</th>\n",
       "      <td>0</td>\n",
       "      <td>0</td>\n",
       "      <td>2</td>\n",
       "      <td>0</td>\n",
       "      <td>1</td>\n",
       "      <td>1.82</td>\n",
       "      <td>0.25</td>\n",
       "      <td>36</td>\n",
       "      <td>36</td>\n",
       "      <td>-7.62</td>\n",
       "      <td>0.00</td>\n",
       "      <td>1</td>\n",
       "      <td>1</td>\n",
       "      <td>0.62069</td>\n",
       "      <td>0.642857</td>\n",
       "      <td>0</td>\n",
       "      <td>0</td>\n",
       "      <td>1</td>\n",
       "      <td>0</td>\n",
       "      <td>0</td>\n",
       "      <td>1</td>\n",
       "      <td>0</td>\n",
       "      <td>0</td>\n",
       "      <td>0</td>\n",
       "      <td>1</td>\n",
       "      <td>0</td>\n",
       "    </tr>\n",
       "    <tr>\n",
       "      <th>1</th>\n",
       "      <td>0</td>\n",
       "      <td>1</td>\n",
       "      <td>0</td>\n",
       "      <td>0</td>\n",
       "      <td>1</td>\n",
       "      <td>0.00</td>\n",
       "      <td>0.73</td>\n",
       "      <td>26</td>\n",
       "      <td>35</td>\n",
       "      <td>5.08</td>\n",
       "      <td>10.16</td>\n",
       "      <td>1</td>\n",
       "      <td>1</td>\n",
       "      <td>1.00000</td>\n",
       "      <td>0.666667</td>\n",
       "      <td>0</td>\n",
       "      <td>1</td>\n",
       "      <td>0</td>\n",
       "      <td>0</td>\n",
       "      <td>0</td>\n",
       "      <td>1</td>\n",
       "      <td>0</td>\n",
       "      <td>0</td>\n",
       "      <td>0</td>\n",
       "      <td>0</td>\n",
       "      <td>1</td>\n",
       "    </tr>\n",
       "    <tr>\n",
       "      <th>2</th>\n",
       "      <td>0</td>\n",
       "      <td>1</td>\n",
       "      <td>0</td>\n",
       "      <td>1</td>\n",
       "      <td>0</td>\n",
       "      <td>1.00</td>\n",
       "      <td>2.41</td>\n",
       "      <td>21</td>\n",
       "      <td>21</td>\n",
       "      <td>2.54</td>\n",
       "      <td>-12.70</td>\n",
       "      <td>0</td>\n",
       "      <td>1</td>\n",
       "      <td>1.00000</td>\n",
       "      <td>1.000000</td>\n",
       "      <td>0</td>\n",
       "      <td>1</td>\n",
       "      <td>0</td>\n",
       "      <td>0</td>\n",
       "      <td>0</td>\n",
       "      <td>1</td>\n",
       "      <td>0</td>\n",
       "      <td>0</td>\n",
       "      <td>0</td>\n",
       "      <td>0</td>\n",
       "      <td>1</td>\n",
       "    </tr>\n",
       "  </tbody>\n",
       "</table>\n",
       "</div>"
      ],
      "text/plain": [
       "   title_bout  B_current_win_streak  B_current_lose_streak  \\\n",
       "0           0                     0                      2   \n",
       "1           0                     1                      0   \n",
       "2           0                     1                      0   \n",
       "\n",
       "   R_current_win_streak  R_current_lose_streak  B_avg_TD_landed  \\\n",
       "0                     0                      1             1.82   \n",
       "1                     0                      1             0.00   \n",
       "2                     1                      0             1.00   \n",
       "\n",
       "   R_avg_TD_landed  B_age  R_age  height_dif  reach_dif  gender  Winner  \\\n",
       "0             0.25     36     36       -7.62       0.00       1       1   \n",
       "1             0.73     26     35        5.08      10.16       1       1   \n",
       "2             2.41     21     21        2.54     -12.70       0       1   \n",
       "\n",
       "      B_wr      R_wr  B_Stance_Open Stance  B_Stance_Orthodox  \\\n",
       "0  0.62069  0.642857                     0                  0   \n",
       "1  1.00000  0.666667                     0                  1   \n",
       "2  1.00000  1.000000                     0                  1   \n",
       "\n",
       "   B_Stance_Southpaw  B_Stance_Switch  R_Stance_Open Stance  \\\n",
       "0                  1                0                     0   \n",
       "1                  0                0                     0   \n",
       "2                  0                0                     0   \n",
       "\n",
       "   R_Stance_Orthodox  R_Stance_Southpaw  R_Stance_Switch  better_rank_Blue  \\\n",
       "0                  1                  0                0                 0   \n",
       "1                  1                  0                0                 0   \n",
       "2                  1                  0                0                 0   \n",
       "\n",
       "   better_rank_Red  better_rank_neither  \n",
       "0                1                    0  \n",
       "1                0                    1  \n",
       "2                0                    1  "
      ]
     },
     "execution_count": 11,
     "metadata": {},
     "output_type": "execute_result"
    }
   ],
   "source": [
    "data.head(3)"
   ]
  }
 ],
 "metadata": {
  "kernelspec": {
   "display_name": "Python 3",
   "language": "python",
   "name": "python3"
  },
  "language_info": {
   "codemirror_mode": {
    "name": "ipython",
    "version": 3
   },
   "file_extension": ".py",
   "mimetype": "text/x-python",
   "name": "python",
   "nbconvert_exporter": "python",
   "pygments_lexer": "ipython3",
   "version": "3.8.3"
  }
 },
 "nbformat": 4,
 "nbformat_minor": 4
}
