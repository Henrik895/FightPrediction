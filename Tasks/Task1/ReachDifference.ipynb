{
 "cells": [
  {
   "cell_type": "markdown",
   "metadata": {},
   "source": [
    "Question: Can we use reach difference between two fighters to predict fight outcomes?"
   ]
  },
  {
   "cell_type": "code",
   "execution_count": 1,
   "metadata": {},
   "outputs": [],
   "source": [
    "import pandas as pd\n",
    "import matplotlib.pyplot as plt"
   ]
  },
  {
   "cell_type": "code",
   "execution_count": 2,
   "metadata": {},
   "outputs": [],
   "source": [
    "data = pd.read_csv('../../data/ufc-master.csv')"
   ]
  },
  {
   "cell_type": "markdown",
   "metadata": {},
   "source": [
    "Fixing mistakes in the data before using it"
   ]
  },
  {
   "cell_type": "code",
   "execution_count": 3,
   "metadata": {},
   "outputs": [],
   "source": [
    "filter1 = (data['reach_dif'] == -187.96) & (data['B_fighter'] == 'Parker Porter')\n",
    "filter2 = (data['reach_dif'] == -187.96) & (data['B_fighter'] == 'Irwin Rivera')\n",
    "filter3 = data['reach_dif'] == -160.02\n",
    "data[filter1] = data[filter1].replace({-187.96: -2.54})\n",
    "data[filter2] = data[filter2].replace({-187.96: -17.78 })\n",
    "data[filter3] = data[filter3].replace({-160.02: 5.08})"
   ]
  },
  {
   "cell_type": "markdown",
   "metadata": {},
   "source": [
    "It is important to note that even though the reach values are in centimeters they were originally measured in inches and we have to take that into consideration later on."
   ]
  },
  {
   "cell_type": "markdown",
   "metadata": {},
   "source": [
    "First let's check how often fighter with a longer reach wins."
   ]
  },
  {
   "cell_type": "code",
   "execution_count": 4,
   "metadata": {},
   "outputs": [
    {
     "name": "stdout",
     "output_type": "stream",
     "text": [
      "Fighter with a longer reach wins 52.63% of the time.\n",
      "Sample size (number of fights where the reach difference is greater than 0): 3914\n"
     ]
    }
   ],
   "source": [
    "#First excluding fights where both fighters have the same reach\n",
    "not_equal = data['reach_dif'] != 0\n",
    "data_wo_equal = data[not_equal][['reach_dif', 'Winner']]\n",
    "wins = 0\n",
    "for i in range(len(data_wo_equal)):\n",
    "    if (data_wo_equal['reach_dif'].iloc[i] > 0) & (data_wo_equal['Winner'].iloc[i] == 'Blue'):\n",
    "        wins += 1\n",
    "    elif (data_wo_equal['reach_dif'].iloc[i] < 0) & (data_wo_equal['Winner'].iloc[i] == 'Red'):\n",
    "        wins += 1\n",
    "print(\"Fighter with a longer reach wins \" + str(round((wins / len(data_wo_equal)) * 100, 2)) + \"% of the time.\")\n",
    "print(\"Sample size (number of fights where the reach difference is greater than 0): \" + str(len(data_wo_equal)))"
   ]
  },
  {
   "cell_type": "markdown",
   "metadata": {},
   "source": [
    "Eventhough the 52.7% is not a lot it still shows that most of the time fighter with a reach advantage wins. This raises the question: when does the reach advantage become significant?"
   ]
  },
  {
   "cell_type": "markdown",
   "metadata": {},
   "source": [
    "First we will check scenarios where one fighter has a reach advantage of at least x cm and how it affects the fight outcome. It is important to note that in this case one fight can appear simultaneously in multiple scenarios. For example if one fighter has a reach advantage of 10cm in a certain fight, then this fight affects the outcome in scenarios where one fighter has a reach advantage of at least 2.5cm, 5cm, 7.5cm and 10cm. Because of that we are later also going to split reach advantages into categories like 0-2.54, 2.55-5.08 etc and see if this makes a difference."
   ]
  },
  {
   "cell_type": "code",
   "execution_count": 5,
   "metadata": {},
   "outputs": [],
   "source": [
    "results = []\n",
    "differences = []\n",
    "sample_sizes = []\n",
    "inch = 2.54\n",
    "for i in range(1, 11, 1):\n",
    "    if i == 1:\n",
    "        #We exclude cases where both fighters have exactly the same reach\n",
    "        reachFilter = (abs(data['reach_dif']) <= inch * i) & (data['reach_dif'] != 0)\n",
    "    else:\n",
    "        reachFilter = abs(data['reach_dif']) > inch * i\n",
    "    data_filtered = data[reachFilter][['reach_dif', 'Winner']]\n",
    "    reach_adv = 0 #Fighter with the reach advantage won\n",
    "    filtered_data_size = len(data_filtered)\n",
    "    if (filtered_data_size < 0.01 * len(data)):\n",
    "        #If the sample size is less than 1% of the fights we are not looking further\n",
    "        break\n",
    "    differences.append(i * inch)\n",
    "    sample_sizes.append(filtered_data_size)\n",
    "    for j in range(len(data_filtered)):\n",
    "        #Reach difference in the dataset is calculated as blue reach - red reach\n",
    "        if (data_filtered['reach_dif'].iloc[j] > 0) & (data_filtered['Winner'].iloc[j] == 'Blue'):\n",
    "            reach_adv += 1\n",
    "        elif (data_filtered['reach_dif'].iloc[j] < 0) & (data_filtered['Winner'].iloc[j] == 'Red'):\n",
    "            reach_adv += 1\n",
    "    results.append(reach_adv / filtered_data_size)"
   ]
  },
  {
   "cell_type": "code",
   "execution_count": 6,
   "metadata": {
    "scrolled": true
   },
   "outputs": [
    {
     "name": "stdout",
     "output_type": "stream",
     "text": [
      "When the fighter with a longer reach had a reach advantage of less than or equal to 2.54cm he/she won 49.87% of the time. Sample size was 1121.\n",
      "When the fighter with a longer reach had a reach advantage that was greater than 5.08cm he/she won 55.31% of the time. Sample size was 1949.\n",
      "When the fighter with a longer reach had a reach advantage that was greater than 7.62cm he/she won 55.63% of the time. Sample size was 1235.\n",
      "When the fighter with a longer reach had a reach advantage that was greater than 10.16cm he/she won 56.79% of the time. Sample size was 780.\n",
      "When the fighter with a longer reach had a reach advantage that was greater than 12.7cm he/she won 57.92% of the time. Sample size was 461.\n",
      "When the fighter with a longer reach had a reach advantage that was greater than 15.24cm he/she won 60.26% of the time. Sample size was 229.\n",
      "When the fighter with a longer reach had a reach advantage that was greater than 17.78cm he/she won 67.89% of the time. Sample size was 109.\n",
      "When the fighter with a longer reach had a reach advantage that was greater than 20.32cm he/she won 72.92% of the time. Sample size was 48.\n"
     ]
    }
   ],
   "source": [
    "for i in range (len(results)):\n",
    "    if i == 0:\n",
    "        print(\"When the fighter with a longer reach had a reach advantage of less than or equal to \" + str(differences[i]) +\n",
    "              \"cm he/she won \" +  str(round(results[i] * 100, 2)) + \"% of the time. Sample size was \" + \n",
    "              str(sample_sizes[i]) + \".\")\n",
    "    else:\n",
    "        print(\"When the fighter with a longer reach had a reach advantage that was greater than \" + str(differences[i]) +\n",
    "              \"cm he/she won \" + str(round(results[i] * 100, 2)) + \"% of the time. Sample size was \" +\n",
    "              str(sample_sizes[i]) + \".\")"
   ]
  },
  {
   "cell_type": "markdown",
   "metadata": {},
   "source": [
    "These results show us that there certainly seems to be strong correlation between the fighters reach advantage and win probability."
   ]
  },
  {
   "cell_type": "markdown",
   "metadata": {},
   "source": [
    "Now we look the fight outcomes when we divide reach differences into excluding categories so that one fight can only appear once. We will use a step of 2.54cm because as we pointed out before even though the reach values are in centimeters they were measured using inches. As before we exclude fights where both fighters had the same reach."
   ]
  },
  {
   "cell_type": "code",
   "execution_count": 7,
   "metadata": {},
   "outputs": [],
   "source": [
    "filter2 = data['reach_dif'] != 0\n",
    "data2 = data[filter2][['reach_dif', 'Winner']]\n",
    "thresholds = []\n",
    "results2 = []\n",
    "sample_sizes_2 = []\n",
    "#From the previous results we can see that the highest category should be 20.32+\n",
    "for i in range(1, 9, 1):\n",
    "    thresholds.append(2.54 * i)\n",
    "for i in range(len(thresholds) + 1):\n",
    "    if i == 0:\n",
    "        reachFilt = abs(data2['reach_dif']) <= thresholds[i]\n",
    "    elif i == len(thresholds):\n",
    "        reachFilt = abs(data2['reach_dif']) > thresholds[i - 1]\n",
    "    else:\n",
    "        reachFilt = (abs(data2['reach_dif']) > thresholds[i - 1]) & (abs(data2['reach_dif']) <= thresholds[i])\n",
    "    data_filtered_2 = data2[reachFilt]\n",
    "    adv_wins_2 = 0 #Fighter with a reach advantage won\n",
    "    sample_sizes_2.append(len(data_filtered_2))\n",
    "    for j in range(len(data_filtered_2)):\n",
    "        #Because we have already filtered the data we only have to check whether the difference is positive or negative\n",
    "        if (data_filtered_2['reach_dif'].iloc[j] > 0) & (data_filtered_2['Winner'].iloc[j] == 'Blue'):\n",
    "            adv_wins_2 += 1\n",
    "        elif (data_filtered_2['reach_dif'].iloc[j] < 0) & (data_filtered_2['Winner'].iloc[j] == 'Red'):\n",
    "            adv_wins_2 += 1\n",
    "    results2.append(adv_wins_2 / len(data_filtered_2))"
   ]
  },
  {
   "cell_type": "code",
   "execution_count": 8,
   "metadata": {
    "scrolled": false
   },
   "outputs": [
    {
     "name": "stdout",
     "output_type": "stream",
     "text": [
      "When the reach difference was between (0, 2.54] centimeters the fighter with the longer reach won 49.87% of the time.\n",
      "Sample size was 1121.\n",
      "\n",
      "When the reach difference was between (2.54, 5.08] centimeters the fighter with the longer reach won 50.12% of the time.\n",
      "Sample size was 844.\n",
      "\n",
      "When the reach difference was between (5.08, 7.62] centimeters the fighter with the longer reach won 54.76% of the time.\n",
      "Sample size was 714.\n",
      "\n",
      "When the reach difference was between (7.62, 10.16] centimeters the fighter with the longer reach won 53.63% of the time.\n",
      "Sample size was 455.\n",
      "\n",
      "When the reach difference was between (10.16, 12.7] centimeters the fighter with the longer reach won 55.17% of the time.\n",
      "Sample size was 319.\n",
      "\n",
      "When the reach difference was between (12.7, 15.24] centimeters the fighter with the longer reach won 55.6% of the time.\n",
      "Sample size was 232.\n",
      "\n",
      "When the reach difference was between (15.24, 17.78] centimeters the fighter with the longer reach won 53.33% of the time.\n",
      "Sample size was 120.\n",
      "\n",
      "When the reach difference was between (17.78, 20.32] centimeters the fighter with the longer reach won 63.93% of the time.\n",
      "Sample size was 61.\n",
      "\n",
      "When the reach difference was between more than 20.32 centimers the fighter with the longer reach won 72.92% of the time.\n",
      "Sample size was 48.\n",
      "\n"
     ]
    }
   ],
   "source": [
    "for i in range(len(results2)):\n",
    "    if i == 0:\n",
    "        print(\"When the reach difference was between (0, 2.54] centimeters the fighter with the longer reach won \" +\n",
    "              str(round(results2[i] * 100, 2)) + \"% of the time.\")\n",
    "        print(\"Sample size was \" + str(sample_sizes_2[i]) + \".\\n\")\n",
    "    elif i == len(results2) - 1:\n",
    "        print(\"When the reach difference was between more than 20.32 centimers the fighter with the longer reach won \" +\n",
    "              str(round(results2[i] * 100, 2)) + \"% of the time.\")\n",
    "        print(\"Sample size was \" + str(sample_sizes_2[i]) + \".\\n\")\n",
    "    else:\n",
    "        print(\"When the reach difference was between (\" + str(thresholds[i - 1]) +\", \" + str(thresholds[i]) + \"] centimeters the fighter with the longer reach won \" +\n",
    "              str(round(results2[i] * 100, 2)) + \"% of the time.\")\n",
    "        print(\"Sample size was \" + str(sample_sizes_2[i]) + \".\\n\")"
   ]
  },
  {
   "cell_type": "markdown",
   "metadata": {},
   "source": [
    "Similarly to the previous test these results show us that reach advantage certainly plays a role in the outcome of the fight. This is very noticeable when the reach advantage of one fighter is greater than 17.78 cm."
   ]
  },
  {
   "cell_type": "code",
   "execution_count": 9,
   "metadata": {},
   "outputs": [
    {
     "data": {
      "image/png": "[encoded data removed]",
      "text/plain": [
       "<Figure size 432x288 with 1 Axes>"
      ]
     },
     "metadata": {
      "needs_background": "light"
     },
     "output_type": "display_data"
    }
   ],
   "source": [
    "#Simple chart that shows win rates for different categories (center is 50% win rate)\n",
    "plt.figure()\n",
    "categories = ['(0, 2.54]', '(2.54, 5.08]', '(5.08, 7.62]',  '(7.62, 10.16]', '(10.16, 12.7]', '(12.7, 15.24]', '(15.24, 17.78]',\n",
    "          '(17.78, 20.32]', '20.32+']\n",
    "results_chart = []\n",
    "for i in range(len(results2)):\n",
    "    results_chart.append(results2[i] - 0.5)\n",
    "plt.barh(categories, results_chart)\n",
    "ticks = [-0.05, 0, 0.05, 0.1, 0.15, 0.2, 0.25, 0.3]\n",
    "labels = [\"45%\", \"50%\", \"55%\", \"60%\", \"65%\", \"70%\", \"75%\", \"80%\"]\n",
    "plt.xticks(ticks, labels)\n",
    "plt.show()"
   ]
  },
  {
   "cell_type": "markdown",
   "metadata": {},
   "source": [
    "Regular bar chart"
   ]
  },
  {
   "cell_type": "code",
   "execution_count": 37,
   "metadata": {},
   "outputs": [
    {
     "data": {
      "text/plain": [
       "<function matplotlib.pyplot.show(*args, **kw)>"
      ]
     },
     "execution_count": 37,
     "metadata": {},
     "output_type": "execute_result"
    },
    {
     "data": {
      "image/png": "[encoded data removed]",
      "text/plain": [
       "<Figure size 1080x720 with 1 Axes>"
      ]
     },
     "metadata": {
      "needs_background": "light"
     },
     "output_type": "display_data"
    }
   ],
   "source": [
    "plt.figure(figsize=(15, 10))\n",
    "plt.title(\"Reach advantage and win probabilities\")\n",
    "plt.ylabel(\"Win probability\")\n",
    "plt.xlabel(\"Reach advantage in cm\")\n",
    "plt.bar(categories, results2)\n",
    "plt.axhline(y=0.5, color='r', linestyle='--')\n",
    "plt.axhline(y=0.6, color='r', linestyle='--')\n",
    "plt.axhline(y=0.7, color='r', linestyle='--')\n",
    "plt.ylim((0.45, 0.77))\n",
    "plt.show"
   ]
  }
 ],
 "metadata": {
  "kernelspec": {
   "display_name": "Python 3",
   "language": "python",
   "name": "python3"
  },
  "language_info": {
   "codemirror_mode": {
    "name": "ipython",
    "version": 3
   },
   "file_extension": ".py",
   "mimetype": "text/x-python",
   "name": "python",
   "nbconvert_exporter": "python",
   "pygments_lexer": "ipython3",
   "version": "3.8.3"
  }
 },
 "nbformat": 4,
 "nbformat_minor": 4
}
