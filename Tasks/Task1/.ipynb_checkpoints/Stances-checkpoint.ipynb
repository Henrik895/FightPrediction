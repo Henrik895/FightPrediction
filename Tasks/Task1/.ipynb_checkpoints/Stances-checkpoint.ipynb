{
 "cells": [
  {
   "cell_type": "markdown",
   "metadata": {},
   "source": [
    "Quick look into fighter stances. Does it matter or not?"
   ]
  },
  {
   "cell_type": "code",
   "execution_count": 1,
   "metadata": {},
   "outputs": [],
   "source": [
    "import pandas as pd"
   ]
  },
  {
   "cell_type": "code",
   "execution_count": 2,
   "metadata": {},
   "outputs": [],
   "source": [
    "data = pd.read_csv('../../data/ufc-master.csv')"
   ]
  },
  {
   "cell_type": "markdown",
   "metadata": {},
   "source": [
    "For simplicity purposes we will compare fighters who use orthodox (right handed) and southpaw (left handed) stances. This means that we will have to filter out some fights, but most of the fighters use either orthodox or southpaw stance so the number of fights that will be removed because of filters should be relatively small."
   ]
  },
  {
   "cell_type": "code",
   "execution_count": 3,
   "metadata": {},
   "outputs": [
    {
     "name": "stdout",
     "output_type": "stream",
     "text": [
      "1331\n"
     ]
    }
   ],
   "source": [
    "#We will also remove fights where both of the fighters use same stance because in this case no one has an advantage\n",
    "#or disadvantage\n",
    "different_stance = data['B_Stance'] != data['R_Stance']\n",
    "filter1 = (data['B_Stance'] == 'Orthodox') | (data['B_Stance'] == 'Southpaw')\n",
    "filter2 = (data['R_Stance'] == 'Orthodox') | (data['R_Stance'] == 'Southpaw')\n",
    "data = data[different_stance & filter1 & filter2]\n",
    "data_filtered = data[['B_Stance', 'R_Stance', 'Winner']].copy(deep=True)\n",
    "print(len(data_filtered))"
   ]
  },
  {
   "cell_type": "markdown",
   "metadata": {},
   "source": [
    "We have 1331 fights where fighters used different stances. Now we have to check how many times fighter with an orthodox stance won and how many times fighter with an southpaw stance won to determine if there are any differences."
   ]
  },
  {
   "cell_type": "code",
   "execution_count": 4,
   "metadata": {},
   "outputs": [],
   "source": [
    "#Because we have only 2 options and we know the number of fights where fighters had different stances we only have to find out\n",
    "#number of wins for one stance and we can get the other one by subtraction\n",
    "orthodox_wins = 0\n",
    "for i in range(len(data_filtered)):\n",
    "    if (data_filtered['B_Stance'].iloc[i] == 'Orthodox') & (data_filtered['Winner'].iloc[i] == 'Blue'):\n",
    "        orthodox_wins += 1\n",
    "    elif (data_filtered['R_Stance'].iloc[i] == 'Orthodox') & (data_filtered['Winner'].iloc[i] == 'Red'):\n",
    "        orthodox_wins += 1\n",
    "southpaw_wins = len(data_filtered) - orthodox_wins"
   ]
  },
  {
   "cell_type": "code",
   "execution_count": 5,
   "metadata": {},
   "outputs": [
    {
     "name": "stdout",
     "output_type": "stream",
     "text": [
      "When both fighters used different stances fighter with an orthodox stance (right handed) won: 640/1331 fights (48.08%).\n",
      "When both fighters used different stances fighter with an southpaw stance (left handed) won: 691/1331 fights (51.92%).\n"
     ]
    }
   ],
   "source": [
    "print(\"When both fighters used different stances fighter with an orthodox stance (right handed) won: \" +\n",
    "     str(orthodox_wins) + \"/\" + str(len(data_filtered)) + \" fights (\" +\n",
    "      str(round((orthodox_wins / len(data_filtered)) * 100, 2)) + \"%).\")\n",
    "print(\"When both fighters used different stances fighter with an southpaw stance (left handed) won: \" +\n",
    "     str(southpaw_wins) + \"/\" + str(len(data_filtered)) + \" fights (\" +\n",
    "      str(round((southpaw_wins / len(data_filtered)) * 100, 2)) + \"%).\")"
   ]
  },
  {
   "cell_type": "markdown",
   "metadata": {},
   "source": [
    "This is a somewhat interesting result. As we can see, when both fighters use different stances more often than not it is better to prefer  a fighter who uses the southpaw stance instead of a fighter who uses the orthodox stance. The sample size was 1331, which tells us that this is certainly not random occurrence either and there is certainly some kind of correlation.\n",
    "One of the reasons why this might be the case is that vast majority of the population is right handed and because of this most of the time fighters are fighting against other right handed fighters. This means that left handed fighters are probably used to fighting against right handed fighters, but right handed fighters do not get to fight against left handed fighters that often so the situation is less familiar for them."
   ]
  }
 ],
 "metadata": {
  "kernelspec": {
   "display_name": "Python 3",
   "language": "python",
   "name": "python3"
  },
  "language_info": {
   "codemirror_mode": {
    "name": "ipython",
    "version": 3
   },
   "file_extension": ".py",
   "mimetype": "text/x-python",
   "name": "python",
   "nbconvert_exporter": "python",
   "pygments_lexer": "ipython3",
   "version": "3.8.3"
  }
 },
 "nbformat": 4,
 "nbformat_minor": 4
}
