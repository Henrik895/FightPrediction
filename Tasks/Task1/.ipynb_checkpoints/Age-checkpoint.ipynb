{
 "cells": [
  {
   "cell_type": "markdown",
   "metadata": {},
   "source": [
    "Age and its impact on fight results"
   ]
  },
  {
   "cell_type": "code",
   "execution_count": 1,
   "metadata": {},
   "outputs": [],
   "source": [
    "import pandas as pd"
   ]
  },
  {
   "cell_type": "code",
   "execution_count": 2,
   "metadata": {},
   "outputs": [],
   "source": [
    "data = pd.read_csv('../../data/ufc-master.csv')"
   ]
  },
  {
   "cell_type": "markdown",
   "metadata": {},
   "source": [
    "If we don't know anything else except the age of both fighters, which one should we pick?"
   ]
  },
  {
   "cell_type": "code",
   "execution_count": 31,
   "metadata": {},
   "outputs": [
    {
     "name": "stdout",
     "output_type": "stream",
     "text": [
      "Younger fighter win 44.44% of the time.\n",
      "Number of fights where fighters had different age: 4138.\n"
     ]
    }
   ],
   "source": [
    "#Excluding fights where fighters have the same age\n",
    "no_equal = data['age_dif'] != 0\n",
    "data_filtered = data[no_equal][['age_dif', 'Winner', 'B_age', 'R_age', 'B_total_rounds_fought', 'R_total_rounds_fought']]\n",
    "younger_wins = 0\n",
    "for i in range(len(data_filtered)):\n",
    "    #The age difference is calculated as blue - red so negative value means that the blue fighter was younger\n",
    "    if (data_filtered['age_dif'].iloc[i] < 0) & (data_filtered['Winner'].iloc[i] == 'Blue'):\n",
    "        younger_wins += 1\n",
    "    elif (data_filtered['age_dif'].iloc[i] > 0) & (data_filtered['Winner'].iloc[i] == 'Red'):\n",
    "        younger_wins += 1\n",
    "win_ratio = younger_wins / len(data_filtered)\n",
    "print(\"Younger fighter win \" + str(round(win_ratio * 100, 2)) + \"% of the time.\")\n",
    "print(\"Number of fights where fighters had different age: \" + str(len(data_filtered)) + \".\")"
   ]
  },
  {
   "cell_type": "markdown",
   "metadata": {},
   "source": [
    "Contrary to our initial assumption it seems that if we know nothing about fighters except their age, we should pick the older fighter instead as they win 56% of the time compared to 44% for the younger fighters. This is a really suprising result. Are the age differences really small or maybe it is lack of fighting experience on the younger fighters side?"
   ]
  },
  {
   "cell_type": "markdown",
   "metadata": {},
   "source": [
    "To get more information about it lets look the average age difference in the fights where the older fighter won."
   ]
  },
  {
   "cell_type": "code",
   "execution_count": 32,
   "metadata": {},
   "outputs": [
    {
     "name": "stdout",
     "output_type": "stream",
     "text": [
      "Average age difference in fights where the older fighter won was: 4.64 years.\n",
      "The average age of a winner in these fights was: 27.68 years.\n"
     ]
    }
   ],
   "source": [
    "older_won = ((data_filtered['age_dif'] > 0) & (data_filtered['Winner'] == 'Blue') \n",
    "           | (data_filtered['age_dif'] < 0) & (data_filtered['Winner'] == 'Red'))\n",
    "data_older_won = data_filtered[older_won]\n",
    "sum_age_dif = 0\n",
    "sum_age = 0\n",
    "for i in range(len(data_older_won)):\n",
    "    sum_age_dif += abs(data_older_won['age_dif'].iloc[i])\n",
    "    if (data_older_won['age_dif'].iloc[i] > 0):\n",
    "        sum_age += data_older_won['B_age'].iloc[i]\n",
    "    else:\n",
    "        sum_age += data_older_won['R_age'].iloc[i]\n",
    "average_dif = sum_age_dif / len(data_older_won)\n",
    "average_age = sum_age / len(data_older_won)\n",
    "print(\"Average age difference in fights where the older fighter won was: \" + str(round(average_dif, 2)) + \" years.\")\n",
    "print(\"The average age of a winner in these fights was: \" + str(round(average_age, 2)) + \" years.\")"
   ]
  },
  {
   "cell_type": "markdown",
   "metadata": {},
   "source": [
    "It seems that it might be the latter which is true, that younger fighters are not as experienced fighters. As we can see the age difference in fights where the older fighter won was roughly 4.6 years, which is certainly not a small difference and when we take into consideration that the average age of a winner in these fights was 27.68 it seems to indicate lack of experience as one of the reasons as well."
   ]
  },
  {
   "cell_type": "markdown",
   "metadata": {},
   "source": [
    "Just to be sure let's also look the differences in experience between two fighters in fights where the older fighter won. It might be hard to measure the experience, but one of the ways is to look the difference in total number of rounds (one round is 5 minutes) fought by each fighter during their careers so far."
   ]
  },
  {
   "cell_type": "code",
   "execution_count": 48,
   "metadata": {},
   "outputs": [
    {
     "name": "stdout",
     "output_type": "stream",
     "text": [
      "In fights where the older fighter won the winner had previously fought on average 11.77 rounds in total.\n",
      "The younger fighter who lost had previously fought on average 14.88 rounds in total.\n"
     ]
    }
   ],
   "source": [
    "sum_older_rounds = 0\n",
    "sum_younger_rounds = 0\n",
    "for i in range(len(data_older_won)):\n",
    "    if (data_older_won['age_dif'].iloc[i] > 0):\n",
    "        sum_older_rounds += data_older_won['B_total_rounds_fought'].iloc[i]\n",
    "        sum_younger_rounds += data_older_won['R_total_rounds_fought'].iloc[i]\n",
    "    else:\n",
    "        sum_older_rounds += data_older_won['R_total_rounds_fought'].iloc[i]\n",
    "        sum_younger_rounds += data_older_won['B_total_rounds_fought'].iloc[i]\n",
    "average_older = sum_older_rounds / len(data_older_won)\n",
    "average_younger = sum_younger_rounds / len(data_older_won)\n",
    "print(\"In fights where the older fighter won the winner had previously fought on average \" + str(round(average_older, 2)) + \" rounds in total.\")\n",
    "print(\"The younger fighter who lost had previously fought on average \" + str(round(average_younger, 2)) + \" rounds in total.\")"
   ]
  },
  {
   "cell_type": "markdown",
   "metadata": {},
   "source": [
    "This goes against our assumption that the older fighers were more experienced, but we have to take into consideration that these count only rounds fought in the UFC and do not take into consideration fights in other promotions prior to arriving in the UFC. Because of that this is remains a little bit inconclusive at the moment and there is really no way of measuring the time spent in the gym training, which is extremely important as well."
   ]
  },
  {
   "cell_type": "markdown",
   "metadata": {},
   "source": [
    "Before moving on let's also check the average age of the winner and age difference between the two fighters in the fights where the younger fighter won."
   ]
  },
  {
   "cell_type": "code",
   "execution_count": 65,
   "metadata": {},
   "outputs": [
    {
     "name": "stdout",
     "output_type": "stream",
     "text": [
      "Average age difference in fights where the younger fighter won was: 4.19 years.\n",
      "The average age of a winner in these fights was: 27.96 years.\n"
     ]
    }
   ],
   "source": [
    "younger_won = ((data_filtered['age_dif'] < 0) & (data_filtered['Winner'] == 'Blue') \n",
    "           | (data_filtered['age_dif'] > 0) & (data_filtered['Winner'] == 'Red'))\n",
    "data_younger_won = data_filtered[younger_won]\n",
    "sum_age_dif2 = 0\n",
    "sum_age2 = 0\n",
    "for i in range(len(data_younger_won)):\n",
    "    sum_age_dif2 += abs(data_younger_won['age_dif'].iloc[i])\n",
    "    if (data_younger_won['age_dif'].iloc[i] > 0):\n",
    "        sum_age2 += data_younger_won['B_age'].iloc[i]\n",
    "    else:\n",
    "        sum_age2 += data_younger_won['R_age'].iloc[i]\n",
    "average_dif2 = sum_age_dif2 / len(data_younger_won)\n",
    "average_age2 = sum_age2 / len(data_younger_won)\n",
    "print(\"Average age difference in fights where the younger fighter won was: \" + str(round(average_dif2, 2)) + \" years.\")\n",
    "print(\"The average age of a winner in these fights was: \" + str(round(average_age2, 2)) + \" years.\")"
   ]
  },
  {
   "cell_type": "markdown",
   "metadata": {},
   "source": [
    "Again the average age of the winner was 27 years old (close to 28) and the average age difference was 4.19 years (quite similar again), which means that fighters who lost to younger fighters were usually over 32 years old. This seems to indicate that fighters do really well when they are 27 years old."
   ]
  },
  {
   "cell_type": "markdown",
   "metadata": {},
   "source": [
    "Next let's see at what point during their career (age) the fighters have the best results. To do that we have to create categories for ages. Let's choose following categories: younger than 24, 24-27, 28-31, 32-35, 36-39, 40+."
   ]
  },
  {
   "cell_type": "code",
   "execution_count": 50,
   "metadata": {},
   "outputs": [],
   "source": [
    "data_ages = data_filtered[['B_age', 'R_age', 'Winner']]"
   ]
  },
  {
   "cell_type": "code",
   "execution_count": 59,
   "metadata": {},
   "outputs": [],
   "source": [
    "def place(x):\n",
    "    if (x < 24):\n",
    "        return 0\n",
    "    elif (x < 28):\n",
    "        return 1\n",
    "    elif (x < 32):\n",
    "        return 2\n",
    "    elif (x < 36):\n",
    "        return 3\n",
    "    elif (x < 40):\n",
    "        return 4\n",
    "    return 5\n",
    "\n",
    "wins = [0, 0, 0, 0, 0, 0]\n",
    "losses = [0, 0, 0, 0, 0, 0]\n",
    "for i in range(len(data_ages)):\n",
    "    if (data_ages['Winner'].iloc[i] == 'Blue'):\n",
    "        wins[place(data_ages['B_age'].iloc[i])] += 1\n",
    "        losses[place(data_ages['R_age'].iloc[i])] += 1\n",
    "    else:\n",
    "        wins[place(data_ages['R_age'].iloc[i])] += 1\n",
    "        losses[place(data_ages['B_age'].iloc[i])] += 1\n",
    "win_probabilities = []\n",
    "for i in range(len(wins)):\n",
    "    win_probabilities.append(wins[i] / (wins[i] + losses[i]))"
   ]
  },
  {
   "cell_type": "code",
   "execution_count": 72,
   "metadata": {
    "scrolled": true
   },
   "outputs": [
    {
     "name": "stdout",
     "output_type": "stream",
     "text": [
      "Under 24 year old fighter wins 57.96% of his/her fights.\n",
      "Fighter in the age bracket [24, 27] wins 55.3% of his/her fights.\n",
      "Fighter in the age bracket [28, 31] wins 50.08% of his/her fights.\n",
      "Fighter in the age bracket [32, 35] wins 45.67% of his/her fights.\n",
      "Fighter in the age bracket [36, 39] wins 40.99% of his/her fights.\n",
      "40+ year old fighter wins 39.32% of his/her fights.\n"
     ]
    }
   ],
   "source": [
    "ages = [24, 28, 32, 36, 40]\n",
    "for i in range(len(win_probabilities)):\n",
    "    if i == 0:\n",
    "        print(\"Under 24 year old fighter wins \" + str(round(win_probabilities[i] * 100, 2)) + \"% of his/her fights.\")\n",
    "    elif i == (len(win_probabilities) - 1):\n",
    "        print(\"40+ year old fighter wins \" + str(round(win_probabilities[i] * 100, 2)) + \"% of his/her fights.\")\n",
    "    else:\n",
    "        print(\"Fighter in the age bracket [\" + str(ages[i - 1]) + \", \" + str(ages[i] - 1) + \"] wins \" +\n",
    "             str(round(win_probabilities[i] * 100, 2)) + \"% of his/her fights.\")"
   ]
  },
  {
   "cell_type": "markdown",
   "metadata": {},
   "source": [
    "From this we can see that age is really a detrimental factor when it comes to winning the fights and experience won't help to make up the difference. Once the fighter hits 30 years old his/her chances of winning the fight drop below 50%. This goes against our initial fighting that older fighters win more often than not, but again the average age of a winner in a fight where the older fighter won was 27, which is shows that the average age of an UFC fighter is just not that high."
   ]
  },
  {
   "cell_type": "markdown",
   "metadata": {},
   "source": [
    "Closer look into under 24 year old bracket because its win percentage is quite high."
   ]
  },
  {
   "cell_type": "code",
   "execution_count": 73,
   "metadata": {},
   "outputs": [],
   "source": [
    "under24 = (data_ages['B_age'] < 24) | (data_ages['R_age'] < 24)\n",
    "data_ages2 = data_ages[under24]"
   ]
  },
  {
   "cell_type": "code",
   "execution_count": 76,
   "metadata": {},
   "outputs": [],
   "source": [
    "def place2(x):\n",
    "    if (x < 21):\n",
    "        return 0\n",
    "    elif (x < 22):\n",
    "        return 1\n",
    "    elif (x < 23):\n",
    "        return 2\n",
    "    return 3\n",
    "\n",
    "ages2 = [20, 21, 22, 23]\n",
    "wins2 = [0, 0, 0, 0]\n",
    "losses2 = [0, 0, 0, 0]\n",
    "\n",
    "for i in range(len(data_ages2)):\n",
    "    if (data_ages2['Winner'].iloc[i] == 'Blue'):\n",
    "        wins2[place2(data_ages2['B_age'].iloc[i])] += 1\n",
    "        losses2[place2(data_ages2['R_age'].iloc[i])] += 1\n",
    "    else:\n",
    "        wins2[place2(data_ages2['R_age'].iloc[i])] += 1\n",
    "        losses2[place2(data_ages2['B_age'].iloc[i])] += 1\n",
    "win_probabilities2 = []\n",
    "for i in range(len(wins2)):\n",
    "    win_probabilities2.append(wins2[i] / (wins2[i] + losses2[i]))"
   ]
  },
  {
   "cell_type": "code",
   "execution_count": 79,
   "metadata": {},
   "outputs": [
    {
     "name": "stdout",
     "output_type": "stream",
     "text": [
      "Fighter who is 20 or younger wins: 62.16% of the fights.\n",
      "Wins: 23\n",
      "Losses: 14\n",
      "\n",
      "Fighter who is 21 wins 56.0% of the fights.\n",
      "Wins: 28\n",
      "Losses: 22\n",
      "\n",
      "Fighter who is 22 wins 59.54% of the fights.\n",
      "Wins: 78\n",
      "Losses: 53\n",
      "\n",
      "Fighter who is 23 wins 47.07% of the fights.\n",
      "Wins: 321\n",
      "Losses: 361\n",
      "\n"
     ]
    }
   ],
   "source": [
    "for i in range(len(ages2)):\n",
    "    if i == 0:\n",
    "        print(\"Fighter who is 20 or younger wins: \" + str(round(win_probabilities2[i] * 100, 2)) + \"% of the fights.\")\n",
    "        print(\"Wins: \" + str(wins2[i]))\n",
    "        print(\"Losses: \" + str(losses2[i]) + \"\\n\")\n",
    "    else:\n",
    "        print(\"Fighter who is \" + str(ages2[i]) + \" wins \" + str(round(win_probabilities2[i] * 100, 2)) + \"% of the fights.\")\n",
    "        print(\"Wins: \" + str(wins2[i]))\n",
    "        print(\"Losses: \" + str(losses2[i]) + \"\\n\")"
   ]
  },
  {
   "cell_type": "markdown",
   "metadata": {},
   "source": [
    "One reason that might explain why the youngest fighters have such a high win percentage is that from my own experience of watching UFC young prospects usually get easy match ups intially so that they get used to fighting in the UFC."
   ]
  },
  {
   "cell_type": "markdown",
   "metadata": {},
   "source": [
    "More: Before we noticed that fighters who were 27 years old won a lot so let's check win ratio for fighters who were 27 years old."
   ]
  },
  {
   "cell_type": "code",
   "execution_count": 68,
   "metadata": {},
   "outputs": [
    {
     "name": "stdout",
     "output_type": "stream",
     "text": [
      "Win percentage for fighters who are 27 years old is 56.13%.\n"
     ]
    }
   ],
   "source": [
    "#We need fights where one of the fighters is 27 years old\n",
    "filter27 = (data_filtered['B_age'] == 27) | (data_filtered['R_age'] == 27)\n",
    "data27 = data_filtered[filter27]\n",
    "wins = 0\n",
    "for i in range(len(data27)):\n",
    "    if (data27['Winner'].iloc[i] == 'Blue') & (data27['B_age'].iloc[i] == 27):\n",
    "        wins += 1\n",
    "    elif (data27['Winner'].iloc[i] == 'Red') & (data27['R_age'].iloc[i] == 27):\n",
    "        wins += 1\n",
    "win_percentage = round((wins / len(data27)) * 100, 2)\n",
    "print(\"Win percentage for fighters who are 27 years old is \" + str(win_percentage) + \"%.\")"
   ]
  }
 ],
 "metadata": {
  "kernelspec": {
   "display_name": "Python 3",
   "language": "python",
   "name": "python3"
  },
  "language_info": {
   "codemirror_mode": {
    "name": "ipython",
    "version": 3
   },
   "file_extension": ".py",
   "mimetype": "text/x-python",
   "name": "python",
   "nbconvert_exporter": "python",
   "pygments_lexer": "ipython3",
   "version": "3.8.3"
  }
 },
 "nbformat": 4,
 "nbformat_minor": 4
}
